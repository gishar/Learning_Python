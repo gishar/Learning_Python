{
 "cells": [
  {
   "cell_type": "markdown",
   "id": "869d180a",
   "metadata": {},
   "source": [
    "- Here is a page for [Markdown Cheatsheet](https://github.com/adam-p/markdown-here/wiki/Markdown-Cheatsheet)\n",
    "- Here is a page for [Python Library Documentation](https://docs.python.org/3/library/)"
   ]
  },
  {
   "cell_type": "markdown",
   "id": "cb5bc758",
   "metadata": {},
   "source": [
    "**_Quick tips:_**\n",
    "* Variables are stored in the Kernel (backend processing engine of the codes). If Kernel was to restart, variables are gone and have to be reinitialized.\n",
    "* in command mode (blue border), L toggles line numbers in the code cell.\n",
    "* in command mode, M and Y toggle between markdown and code mode.\n",
    "* to comment our multiple lines, select them and ctrl + /\n",
    "* to have no output when you open the file, from the Kernel menu, restart and clear output or go to cell, All output and clear\n",
    "* to toggle between showing and not showing output, simply use the key O (I changed this to be Clear Cell Output shortcut)\n",
    "* to edit keyboard shortcuts, click on H and assign or edit\n",
    "* to bring the command pallete: ctrl + shift + P, then quickly type what you want and do it\n",
    "\n",
    "1. Numerical/quantitative variables divided into continuous (floats) and discrete (integers)\n",
    "2. Categorical variables are nominal (boolean, string, None), and ordinal (e.g. lists since they have indeces)\n",
    "3. Mean of a list of boolean variables will count the number of True (1) values and divide by the number of items!\n",
    "4. Shift + L puts a number on the lines of code so you can see how many lines are written in each cell. Pressing L on a cell will remove line numbers for that cell."
   ]
  },
  {
   "cell_type": "code",
   "execution_count": null,
   "id": "9eb77064",
   "metadata": {},
   "outputs": [],
   "source": [
    "pip list # to see a list of the libraries installed on your machine"
   ]
  },
  {
   "cell_type": "code",
   "execution_count": null,
   "id": "c876124c",
   "metadata": {},
   "outputs": [],
   "source": [
    "# importing some libraries that will be needed\n",
    "import numpy as np\n",
    "import pandas as pd\n",
    "import math\n",
    "import sys"
   ]
  },
  {
   "cell_type": "markdown",
   "id": "d3321bb5",
   "metadata": {},
   "source": [
    "# Some General Functions"
   ]
  },
  {
   "cell_type": "code",
   "execution_count": null,
   "id": "df47caa5",
   "metadata": {},
   "outputs": [],
   "source": [
    "sys.version # to check the version of the python we're running"
   ]
  },
  {
   "cell_type": "code",
   "execution_count": null,
   "id": "0a44edc7",
   "metadata": {},
   "outputs": [],
   "source": [
    "%whos # to see what objects/variables, etc. we have in the memory"
   ]
  },
  {
   "cell_type": "code",
   "execution_count": null,
   "id": "a49b183f",
   "metadata": {},
   "outputs": [],
   "source": [
    "n = [1, 3, 6, 8, 13, 1, 4]\n",
    "print(type(n))\n",
    "sum(n) # sum of the numbers in the list"
   ]
  },
  {
   "cell_type": "code",
   "execution_count": null,
   "id": "f3374a60",
   "metadata": {},
   "outputs": [],
   "source": [
    "len(n) # length of the list"
   ]
  },
  {
   "cell_type": "code",
   "execution_count": null,
   "id": "8a2cbfa2",
   "metadata": {},
   "outputs": [],
   "source": [
    "math.pi  # the number pi from the math library"
   ]
  },
  {
   "cell_type": "code",
   "execution_count": null,
   "id": "8f7cd61b",
   "metadata": {},
   "outputs": [],
   "source": [
    "str(math.pi) # to convert data type to string"
   ]
  },
  {
   "cell_type": "code",
   "execution_count": null,
   "id": "83648739",
   "metadata": {},
   "outputs": [],
   "source": [
    "l = ([True, 6 == 5, 4 > 3, None is None, 7]) \n",
    "print(l)\n",
    "sum(l)/len(l) # there are 3 true values and a 7 totalling 10 divided by 5 gets 2 (as float)"
   ]
  },
  {
   "cell_type": "code",
   "execution_count": null,
   "id": "be527679",
   "metadata": {},
   "outputs": [],
   "source": [
    "l.sort() # to sort the items inside a list which actually changes the ordring in that list too\n",
    "l"
   ]
  },
  {
   "cell_type": "code",
   "execution_count": null,
   "id": "eb5247d0",
   "metadata": {},
   "outputs": [],
   "source": [
    "np.mean(l)"
   ]
  },
  {
   "cell_type": "code",
   "execution_count": null,
   "id": "f9827eb5",
   "metadata": {},
   "outputs": [],
   "source": [
    "[None]*5 # to create a list containing 5 None items\n",
    "type(None)"
   ]
  },
  {
   "cell_type": "code",
   "execution_count": null,
   "id": "f34a66a2",
   "metadata": {},
   "outputs": [],
   "source": [
    "a = np.array([0,1,2,3,4,5,6,7,8,9,10])\n",
    "type(a)"
   ]
  },
  {
   "cell_type": "code",
   "execution_count": null,
   "id": "02daa120",
   "metadata": {},
   "outputs": [],
   "source": []
  },
  {
   "cell_type": "markdown",
   "id": "21b47104",
   "metadata": {},
   "source": [
    "# Data Types\n",
    "In Python, there are several built-in data types: \n",
    "1. Numeric: int, float, complex\n",
    "2. Sequences: list, tuple, range\n",
    "3. Text: str\n",
    "4. Mapping: dict\n",
    "5. Set: set, frozenset\n",
    "6. Boolean: bool\n",
    "7. Binary: bytes, bytearray\n",
    "8. None: NoneType\n",
    "\n",
    "In addition to these built-in data types, Python also supports ***custom data types***, such as **classes** and **objects**.\n",
    "Let's Look at the Sequences:"
   ]
  },
  {
   "cell_type": "markdown",
   "id": "86c9b7c6",
   "metadata": {},
   "source": [
    "## Strings"
   ]
  },
  {
   "cell_type": "code",
   "execution_count": null,
   "id": "373897fc",
   "metadata": {},
   "outputs": [],
   "source": [
    "txt = \"She said \\\"Never let go\\\".\"  # Backslashes (\\) are used to escape characters\n",
    "print(txt)\n",
    "print(\"length of txt is \" + str(len(txt)) + \" characters\")\n",
    "print(\"m\" in txt)"
   ]
  },
  {
   "cell_type": "code",
   "execution_count": null,
   "id": "687a5473",
   "metadata": {},
   "outputs": [],
   "source": [
    "txt  = \"Gishar\"\n",
    "print(txt[1] + \", \" + txt[-1] + \", \" + txt[4:6] + \", \" + txt[:4] + \", \" + txt[-3:])"
   ]
  },
  {
   "cell_type": "code",
   "execution_count": null,
   "id": "1e112a05",
   "metadata": {},
   "outputs": [],
   "source": [
    "for letter in txt:\n",
    "    print(letter)"
   ]
  },
  {
   "cell_type": "code",
   "execution_count": null,
   "id": "5f703d9a",
   "metadata": {},
   "outputs": [],
   "source": [
    "txt.lower() + ' ' + txt.upper()  # to make string all lower letter or all capital letters"
   ]
  },
  {
   "cell_type": "code",
   "execution_count": null,
   "id": "8c89421e",
   "metadata": {},
   "outputs": [],
   "source": [
    "(\"   There were three chars first and 5 at the end!     \").strip() # the strip method to remove chars from start and end"
   ]
  },
  {
   "cell_type": "code",
   "execution_count": null,
   "id": "20757abe",
   "metadata": {},
   "outputs": [],
   "source": [
    "(\"   There were three chars first and 5 at the end!     \").strip().title() # to return string with first letter capitalized"
   ]
  },
  {
   "cell_type": "code",
   "execution_count": null,
   "id": "3f9e269d",
   "metadata": {},
   "outputs": [],
   "source": [
    "# contiue from here: https://www.codecademy.com/learn/learn-python-3/modules/learn-python3-strings/cheatsheet"
   ]
  },
  {
   "cell_type": "markdown",
   "id": "b15470ec",
   "metadata": {},
   "source": [
    "## Integer, Float, Boolean"
   ]
  },
  {
   "cell_type": "code",
   "execution_count": null,
   "id": "95587f3c",
   "metadata": {},
   "outputs": [],
   "source": [
    "x = 1 ; y = 2.3\n",
    "type(x) # type to see the type of an object"
   ]
  },
  {
   "cell_type": "code",
   "execution_count": null,
   "id": "f04c041d",
   "metadata": {},
   "outputs": [],
   "source": [
    "float(x) # to convert to float"
   ]
  },
  {
   "cell_type": "code",
   "execution_count": null,
   "id": "896215a0",
   "metadata": {},
   "outputs": [],
   "source": [
    "float(True) # convert boolean to float which gives 0.o for false and 1.0 for true"
   ]
  },
  {
   "cell_type": "code",
   "execution_count": null,
   "id": "81f083ff",
   "metadata": {},
   "outputs": [],
   "source": [
    "int(y) # to convert to integer"
   ]
  },
  {
   "cell_type": "code",
   "execution_count": null,
   "id": "dacd864a",
   "metadata": {},
   "outputs": [],
   "source": [
    "str(y) # to convert to string"
   ]
  },
  {
   "cell_type": "code",
   "execution_count": null,
   "id": "3fcd791b",
   "metadata": {
    "scrolled": true
   },
   "outputs": [],
   "source": [
    "print(1>3) # print the logical result of operation\n",
    "bool(0) # convert 0 to boolean is equal to False and any other number is equal to 1"
   ]
  },
  {
   "cell_type": "code",
   "execution_count": null,
   "id": "aaf1c5c5",
   "metadata": {},
   "outputs": [],
   "source": []
  },
  {
   "cell_type": "code",
   "execution_count": null,
   "id": "ad845f7e",
   "metadata": {},
   "outputs": [],
   "source": []
  },
  {
   "cell_type": "code",
   "execution_count": null,
   "id": "eb4366f8",
   "metadata": {},
   "outputs": [],
   "source": []
  },
  {
   "cell_type": "code",
   "execution_count": null,
   "id": "0b5ffbf8",
   "metadata": {},
   "outputs": [],
   "source": []
  },
  {
   "cell_type": "code",
   "execution_count": null,
   "id": "f0aa1d67",
   "metadata": {},
   "outputs": [],
   "source": []
  },
  {
   "cell_type": "code",
   "execution_count": null,
   "id": "41587b3c",
   "metadata": {},
   "outputs": [],
   "source": []
  },
  {
   "cell_type": "markdown",
   "id": "5d174743",
   "metadata": {},
   "source": [
    "## Lists\n",
    "Lists in Python are a collection of items, ordered and mutable. A list can contain items of different data types, such as integers, floating-point numbers, strings, and so on. Lists are defined using square brackets, with the items separated by commas. \n",
    "\n",
    "Lists allow you to store, manipulate and retrieve elements efficiently, making them one of the most commonly used data structures in Python. You can access individual elements using indexing, add elements to a list using the _append_ method, remove elements using the _remove_ method, and _sort_ the list using the sort method, among other operations."
   ]
  },
  {
   "cell_type": "code",
   "execution_count": null,
   "id": "e3bf1fc4",
   "metadata": {},
   "outputs": [],
   "source": [
    "heights = [[\"Noelle\", 61], [\"Ava\", 70], [\"Sam\", 67], [\"Mia\", 64]] # 2D list is a good structure for representing grids\n",
    "myclass = [\n",
    "        [\"Kenny\", \"American\", 9],\n",
    "        [\"Tanya\", \"Ukrainian\", 9],\n",
    "        [\"Madison\", \"Indian\", 7]\n",
    "        ]\n",
    "print(heights[2][1]) # to call an item in a 2D list we use two [], first to call the list index, second to call the item index in the list\n",
    "print(myclass[1]) # print the whole list in the 2D list called by its index\n",
    "print(myclass[-2][-2])"
   ]
  },
  {
   "cell_type": "code",
   "execution_count": null,
   "id": "84f049d5",
   "metadata": {},
   "outputs": [],
   "source": [
    "myclass[1][1] = \"Albanian\" # same index as [-2][-2]\n",
    "print(myclass[-2][-2])"
   ]
  },
  {
   "cell_type": "code",
   "execution_count": null,
   "id": "c1bb4bc3",
   "metadata": {},
   "outputs": [],
   "source": [
    "myclass[1].remove(\"Tanya\") # to remove or append an item from/to a list inside a 2D list, apply the function on the specific list inside!\n",
    "myclass"
   ]
  },
  {
   "cell_type": "code",
   "execution_count": null,
   "id": "d4743003",
   "metadata": {},
   "outputs": [],
   "source": [
    "myclass.sort() # to sort the list (based on the first elements of each list inside a 2D list)\n",
    "myclass"
   ]
  },
  {
   "cell_type": "code",
   "execution_count": null,
   "id": "b6add75e",
   "metadata": {},
   "outputs": [],
   "source": [
    "x = [] # to create an empty list in an implicit way\n",
    "x = list() # to create an empty list in an explicit way"
   ]
  },
  {
   "cell_type": "code",
   "execution_count": null,
   "id": "915b6c9c",
   "metadata": {},
   "outputs": [],
   "source": [
    "x = [3, 1, 20, 2, 2, 3, 5, \"hi\"]  # a list can contain anything\n",
    "print(x[1]) # to see the item on index 1 (indices on lists start from 0)\n",
    "print(x[2:6]) # to see the items on index 2 to 5 (last number exclusive)"
   ]
  },
  {
   "cell_type": "code",
   "execution_count": null,
   "id": "b270edae",
   "metadata": {},
   "outputs": [],
   "source": [
    "x.count(3)"
   ]
  },
  {
   "cell_type": "code",
   "execution_count": null,
   "id": "d00ecd97",
   "metadata": {},
   "outputs": [],
   "source": [
    "# different ways to update or extract info from a list\n",
    "x.append([True]) # Appends the item to the end of the list\n",
    "x.append(True) # Appends the item to the end of the list\n",
    "x"
   ]
  },
  {
   "cell_type": "code",
   "execution_count": null,
   "id": "02799c1f",
   "metadata": {},
   "outputs": [],
   "source": [
    "x[1:2]=[\"Two\", \"three\"]\n",
    "x += [23, \"No\", False] # another way to add to a list other than using append which only adds 1 item. we can use extend too\n",
    "x"
   ]
  },
  {
   "cell_type": "code",
   "execution_count": null,
   "id": "a79f9aff",
   "metadata": {},
   "outputs": [],
   "source": [
    "# [None] is an list with 1 Null or No-value itemNone is not the same as 0, False, or an empty string. None is a data type of its own (NoneType) and only None can be None.\n",
    "x.append([None]*5)\n",
    "x.append(2)\n",
    "x"
   ]
  },
  {
   "cell_type": "code",
   "execution_count": null,
   "id": "4fe33514",
   "metadata": {},
   "outputs": [],
   "source": [
    "x.remove(2) # removes the item from the list the first time it shows up in the list (for removing by index, use pop() method)\n",
    "x"
   ]
  },
  {
   "cell_type": "code",
   "execution_count": null,
   "id": "edf980ca",
   "metadata": {},
   "outputs": [],
   "source": [
    "x = x[0:5]\n",
    "x"
   ]
  },
  {
   "cell_type": "code",
   "execution_count": null,
   "id": "83d93e8f",
   "metadata": {},
   "outputs": [],
   "source": [
    "x.extend([6, \"Yes\", False])  # to append more than 1 item, we extend: equivalent to concatenating two lists\n",
    "x"
   ]
  },
  {
   "cell_type": "code",
   "execution_count": null,
   "id": "02272f28",
   "metadata": {},
   "outputs": [],
   "source": [
    "x.insert(0, 3) # to insert a new entry into a list using index: .insert(index, value)\n",
    "x.insert(-4, \"text this time\")\n",
    "x"
   ]
  },
  {
   "cell_type": "code",
   "execution_count": null,
   "id": "cf163ce7",
   "metadata": {},
   "outputs": [],
   "source": [
    "x.pop(1) # to remove an item from a list using index: .pop(index) - without an index it simply removed the last one\n",
    "x"
   ]
  },
  {
   "cell_type": "code",
   "execution_count": null,
   "id": "3c574469",
   "metadata": {},
   "outputs": [],
   "source": [
    "r = x.pop(1) # we can save the removed value to a variable if we care to use it later\n",
    "print(r)  # stores the removed (popped) item into another variable\n",
    "print(x)"
   ]
  },
  {
   "cell_type": "code",
   "execution_count": null,
   "id": "53b3d947",
   "metadata": {},
   "outputs": [],
   "source": [
    "name = list(\"GISHAR\")\n",
    "print(\"name = \", name) # this is what list function does to strings."
   ]
  },
  {
   "cell_type": "code",
   "execution_count": null,
   "id": "335f1ba3",
   "metadata": {},
   "outputs": [],
   "source": [
    "name.sort() # this is a method to sort the original list. after this is done, if you print the list, you'll see the sorted version\n",
    "print(\"soreted name = \", name)"
   ]
  },
  {
   "cell_type": "code",
   "execution_count": null,
   "id": "e67c8063",
   "metadata": {},
   "outputs": [],
   "source": [
    "name.sort(reverse=True)\n",
    "print(\"reverse sorted name = \", name)"
   ]
  },
  {
   "cell_type": "markdown",
   "id": "5ce560a6",
   "metadata": {},
   "source": [
    "### Range\n",
    "a built-in function that generates a sequence of numbers. It allows you to generate a sequence of numbers from a starting number to an ending number with a specified step."
   ]
  },
  {
   "cell_type": "code",
   "execution_count": null,
   "id": "1a20c15a",
   "metadata": {},
   "outputs": [],
   "source": [
    "y = range(10) # range(start, end/exclusive, step) is unique in that it creates a range object! to use it as a list, we have to convert it using the list() function\n",
    "print(y)\n",
    "list(y)"
   ]
  },
  {
   "cell_type": "code",
   "execution_count": null,
   "id": "0243a018",
   "metadata": {},
   "outputs": [],
   "source": [
    "z = list(range(2, 20, 2))\n",
    "print(z)\n",
    "len(z) # to see the length of a list"
   ]
  },
  {
   "cell_type": "code",
   "execution_count": null,
   "id": "42d14a9c",
   "metadata": {},
   "outputs": [],
   "source": [
    "names = [\"Jenny\", \"Alexus\", \"Sam\", \"Grace\"]\n",
    "heights = [61, 70, 67, 64]\n",
    "# takes two (or more) lists as inputs and returns an object that contains a list of pairs. Each pair contains one element from each of the inputs.\n",
    "names_and_heights = zip(names, heights)\n",
    "print(names_and_heights)\n",
    "print(list(names_and_heights))"
   ]
  },
  {
   "cell_type": "markdown",
   "id": "d97bf453",
   "metadata": {},
   "source": [
    "## Tuple\n",
    "A tuple is a collection of **ordered, immutable, and heterogeneous** data elements in Python. It's similar to a list, but you can't modify its elements once it's created. Tuples are declared using round brackets ( ) and its elements are separated by commas.\n",
    "\n",
    "Tuples are commonly used to represent ordered collections of **data that shouldn't change**, for example, coordinates in a map, or dates in a calendar. They're also **faster than lists for some operations and use less memory, making them ideal for data that doesn't need to be modified**."
   ]
  },
  {
   "cell_type": "code",
   "execution_count": null,
   "id": "82d7e3a5",
   "metadata": {},
   "outputs": [],
   "source": [
    "mytuple = ('Mike', 24, 'Programmer')\n",
    "mytuple[0] # works the same way as in lists\n",
    "# mytuple[0] = \"Joe\" # this will error due to immutability of tuples"
   ]
  },
  {
   "cell_type": "code",
   "execution_count": null,
   "id": "a2f78d63",
   "metadata": {},
   "outputs": [],
   "source": [
    "print(mytuple[1:]) # all the same like those in list but nothing can change with tuples\n",
    "name, age, occupation = mytuple # unpacking a tuple by putting variables equal to tuple (no of vars equal to no of elements in tuple - order matters)\n",
    "x = (4,) # to create a 1-element tuple we need the , in there. Otherwise, it's just a number and not a tuple\n",
    "x"
   ]
  },
  {
   "cell_type": "markdown",
   "id": "68851611",
   "metadata": {},
   "source": [
    "## Set\n",
    "A set in Python is an unordered collection of unique elements. Sets are commonly used to **remove duplicates from a list** or to perform **mathematical set operations such as union, intersection, and difference**. They are defined using curly braces {} or the built-in **set()** function."
   ]
  },
  {
   "cell_type": "code",
   "execution_count": null,
   "id": "81e377ac",
   "metadata": {},
   "outputs": [],
   "source": [
    "fruits = {\"apple\", \"banana\", \"cherry\", \"apple\", \"apple\", \"cherry\"}\n",
    "fruits"
   ]
  },
  {
   "cell_type": "code",
   "execution_count": null,
   "id": "74be019d",
   "metadata": {},
   "outputs": [],
   "source": [
    "x = [1, 20, 2, 2, 3, 5, 3, 2, 3, \"hi\"]\n",
    "print(x)\n",
    "set(x)"
   ]
  },
  {
   "cell_type": "markdown",
   "id": "4fd71bc2",
   "metadata": {},
   "source": [
    "## Dictionary\n",
    "A dictionary is a collection of key-value pairs. It is an **unordered, mutable, and indexed data structure**. You can access, add, remove, and update the items in a dictionary using the keys. The keys in a dictionary must be unique and can be of any hashable data type (e.g. string, integer, etc.). The values can be of any data type. The syntax to define a dictionary is using curly braces {} with key-value pairs separated by colons. For example: my_dict = {'key1': 'value1', 'key2': 'value2'}\n",
    "\n",
    "## Dataframe\n",
    "A dataframe is another name for dictionary when we use pandas library to work with dictionaries. It is a two-dimensional labeled data structure that can store data of different types. It is a commonly used data structure for data analysis and manipulation. Dataframes are created and manipulated using the Pandas library in Python. They are similar to spreadsheets or SQL tables, allowing you to store, manipulate, and analyze data efficiently. Each column in a dataframe is a pandas Series, and each row is represented by an index. Dataframes have methods and attributes that allow you to perform operations such as selecting rows and columns, filtering, grouping, and aggregating data, and much more."
   ]
  },
  {
   "cell_type": "code",
   "execution_count": null,
   "id": "a01abcf6",
   "metadata": {},
   "outputs": [],
   "source": [
    "person = {\"name\": \"John Doe\", \"age\": 30, \"city\": \"New York\", 'Favorite Numbers':[3, 13, 42]} # create a dictionary\n",
    "type(person)"
   ]
  },
  {
   "cell_type": "code",
   "execution_count": null,
   "id": "62f8e591",
   "metadata": {},
   "outputs": [],
   "source": [
    "pd.DataFrame(person) # making a dataframe from the dictionary created above using pandas"
   ]
  },
  {
   "cell_type": "code",
   "execution_count": null,
   "id": "a4251444",
   "metadata": {},
   "outputs": [],
   "source": [
    "type(pd.DataFrame(person))"
   ]
  },
  {
   "cell_type": "code",
   "execution_count": null,
   "id": "e7db9160",
   "metadata": {},
   "outputs": [],
   "source": [
    "df = pd.read_csv(\"https://raw.githubusercontent.com/curran/data/gh-pages/Rdatasets/csv/COUNT/nuts.csv\")\n",
    "type(df)"
   ]
  },
  {
   "cell_type": "code",
   "execution_count": null,
   "id": "d9632372",
   "metadata": {},
   "outputs": [],
   "source": [
    "df.columns # to see the name of the variables / columns"
   ]
  },
  {
   "cell_type": "code",
   "execution_count": null,
   "id": "1b814eec",
   "metadata": {},
   "outputs": [],
   "source": [
    "df.head(3) # see the top 3 rows of data"
   ]
  },
  {
   "cell_type": "code",
   "execution_count": null,
   "id": "e4edb40b",
   "metadata": {},
   "outputs": [],
   "source": [
    "df.tail(2)"
   ]
  },
  {
   "cell_type": "code",
   "execution_count": null,
   "id": "23f8f9d4",
   "metadata": {},
   "outputs": [],
   "source": [
    "# .loc uses labels/column names to call the data from the dataframe\n",
    "df = df.loc[:, [\"cones\", \"ntrees\", \"dbh\", \"height\", \"cover\", \"sntrees\", \"sheight\", \"scover\"]] # removed the index column\n",
    "df.columns # to see the name of the variables / columns"
   ]
  },
  {
   "cell_type": "code",
   "execution_count": null,
   "id": "788e26ee",
   "metadata": {},
   "outputs": [],
   "source": [
    "df.loc[:,\"ntrees\"].head(2)"
   ]
  },
  {
   "cell_type": "code",
   "execution_count": null,
   "id": "2f5c99e4",
   "metadata": {},
   "outputs": [],
   "source": [
    "df.loc[:3, [\"cones\", \"ntrees\", \"cover\", \"height\"]] # show 3 observation for these columns in order that is written"
   ]
  },
  {
   "cell_type": "code",
   "execution_count": null,
   "id": "efec86a1",
   "metadata": {},
   "outputs": [],
   "source": [
    "df.loc[5:7] # sepefic rows for all columns"
   ]
  },
  {
   "cell_type": "code",
   "execution_count": null,
   "id": "21a36eb7",
   "metadata": {},
   "outputs": [],
   "source": []
  },
  {
   "cell_type": "code",
   "execution_count": null,
   "id": "709737d6",
   "metadata": {},
   "outputs": [],
   "source": [
    "# .iloc uses integer numbers to slice the dataframe\n",
    "df.iloc[:4] # first 4 rows of the dataframe\n",
    "df.iloc[1:5, 2:4] # rows 1 to 5 (exclusive) and columns 2 to 4 (exclusive on the 4) - note, index starts from 0"
   ]
  },
  {
   "cell_type": "code",
   "execution_count": null,
   "id": "29d91b6e",
   "metadata": {},
   "outputs": [],
   "source": [
    "df.cones.unique() # to get the unique values in a column of a dataframe"
   ]
  },
  {
   "cell_type": "code",
   "execution_count": null,
   "id": "018c4643",
   "metadata": {},
   "outputs": [],
   "source": [
    "# df.groupby([\"cones\", \"ntrees\"]).size()  # to group by the combination of two or more variables and show a sumamrization value (size, mean, etc.)"
   ]
  },
  {
   "cell_type": "code",
   "execution_count": null,
   "id": "33b50a4e",
   "metadata": {},
   "outputs": [],
   "source": []
  },
  {
   "cell_type": "markdown",
   "id": "fb7eb9b9",
   "metadata": {},
   "source": [
    "# Functions"
   ]
  },
  {
   "cell_type": "code",
   "execution_count": null,
   "id": "1157f653",
   "metadata": {},
   "outputs": [],
   "source": [
    "def myfunction():\n",
    "    print('Hello')\n",
    "    print('Oh this is fun')\n",
    "\n",
    "myfunction()\n",
    "print('woooha!')\n",
    "myfunction()"
   ]
  },
  {
   "cell_type": "code",
   "execution_count": null,
   "id": "0ef7fe57",
   "metadata": {},
   "outputs": [],
   "source": [
    "# an example of creating a function\n",
    "def biglittle():\n",
    "    text_with_no_space = input(\"write some text without spaces:\")\n",
    "    funny = max(text_with_no_space) + \" \" + min(text_with_no_space)\n",
    "    return funny"
   ]
  },
  {
   "cell_type": "code",
   "execution_count": null,
   "id": "8a8cdec2",
   "metadata": {},
   "outputs": [],
   "source": [
    "biglittle()"
   ]
  },
  {
   "cell_type": "code",
   "execution_count": null,
   "id": "33952b8c",
   "metadata": {},
   "outputs": [],
   "source": [
    "# another example of a function\n",
    "def greet(lang): # the function receives one input, simply labeled lang here and does work with it and returns something \n",
    "    if lang == \"es\":\n",
    "        print(\"Hola!\")\n",
    "    elif lang == \"fr\":\n",
    "        print(\"Bonjour!\")\n",
    "    else:\n",
    "        print(\"Hello!\")\n",
    "\n",
    "greet(\"fr\") # sends the first parameter into the function"
   ]
  },
  {
   "cell_type": "code",
   "execution_count": null,
   "id": "9cce1ad1",
   "metadata": {},
   "outputs": [],
   "source": [
    "# another example of a function\n",
    "def greet(lang): # the function receives one input, simply labeled lang here and does work with it and returns something \n",
    "    if lang == \"es\":\n",
    "        return \"Hola!\"\n",
    "    elif lang == \"fr\":\n",
    "        return \"Bonjour!\"\n",
    "    else:\n",
    "        return \"Hello!\"\n",
    "\n",
    "print(greet(\"fr\"), \"Jean-claude\")"
   ]
  },
  {
   "cell_type": "code",
   "execution_count": null,
   "id": "22008ef1",
   "metadata": {},
   "outputs": [],
   "source": [
    "# another example of a function\n",
    "def addtwo(x, boo): # a function can have receive mroe than one parameter, label them as they come in, work with them and return \n",
    "    added = x + boo\n",
    "    return added # return usually is the last line in a fucntion\n",
    "\n",
    "try:\n",
    "    a = float(input(\"Enter first number: \"))\n",
    "    b = float(input(\"Enter second number: \"))\n",
    "    print(\"the sum is equal to: \", addtwo(a,b))\n",
    "except:\n",
    "    print(\"Can't do that! Please enter numbers only\")"
   ]
  },
  {
   "cell_type": "markdown",
   "id": "989fe2ab",
   "metadata": {},
   "source": [
    "# Indefinite Loop (While)"
   ]
  },
  {
   "cell_type": "code",
   "execution_count": null,
   "id": "4215796f",
   "metadata": {},
   "outputs": [],
   "source": [
    "# While loops are called indefinite loops but mostly we use definite loops\n",
    "n = 5 # this is the iteration variable - will need to change or otherwise the loop goes forever\n",
    "while n > 0:\n",
    "    print(n)\n",
    "    n -= 1\n",
    "\n",
    "print(\"It's Over\")"
   ]
  },
  {
   "cell_type": "code",
   "execution_count": null,
   "id": "0917c872",
   "metadata": {},
   "outputs": [],
   "source": [
    "n = 0\n",
    "while True:\n",
    "    line = input(\"Say my name: \")\n",
    "    if line == \"Done\":\n",
    "        break\n",
    "    print(line)\n",
    "\n",
    "print(\"Finally it's over!\")"
   ]
  },
  {
   "cell_type": "markdown",
   "id": "4ca7beba",
   "metadata": {},
   "source": [
    "# Definite Loop (For)"
   ]
  },
  {
   "cell_type": "code",
   "execution_count": null,
   "id": "982e50d8",
   "metadata": {
    "scrolled": true
   },
   "outputs": [],
   "source": [
    "n=list(range(1,6)) # just defining a list of numbers to work with in the For loop\n",
    "for x in n:\n",
    "    print(x)"
   ]
  },
  {
   "cell_type": "code",
   "execution_count": null,
   "id": "ed143f9d",
   "metadata": {},
   "outputs": [],
   "source": [
    "guys = ['ali', 'hasan', 'haji']\n",
    "for name in guys:\n",
    "    print(\"Happy new year, \", name)"
   ]
  },
  {
   "cell_type": "code",
   "execution_count": null,
   "id": "ec50c7ed",
   "metadata": {},
   "outputs": [],
   "source": [
    "a = 'abc&xyz'  # string\n",
    "b = 3.16  #float\n",
    "c = {2:'a', 3:'b'}  # dictionary\n",
    "d = 6 < 2  # boolean\n",
    "e = [1,2,3,4,5] # list\n",
    "f = sum(e)  # value returned from a function\n",
    "g = sum # a function\n",
    "\n",
    "for obj in [a,b,c,d,e,f,g]:\n",
    "    print(obj)"
   ]
  }
 ],
 "metadata": {
  "kernelspec": {
   "display_name": "Python 3 (ipykernel)",
   "language": "python",
   "name": "python3"
  },
  "language_info": {
   "codemirror_mode": {
    "name": "ipython",
    "version": 3
   },
   "file_extension": ".py",
   "mimetype": "text/x-python",
   "name": "python",
   "nbconvert_exporter": "python",
   "pygments_lexer": "ipython3",
   "version": "3.11.1"
  }
 },
 "nbformat": 4,
 "nbformat_minor": 5
}
