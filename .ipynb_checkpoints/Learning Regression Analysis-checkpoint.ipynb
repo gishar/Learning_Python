{
 "cells": [
  {
   "cell_type": "markdown",
   "id": "9cfec658",
   "metadata": {},
   "source": [
    "# Regression"
   ]
  },
  {
   "cell_type": "markdown",
   "id": "e91e8739",
   "metadata": {},
   "source": [
    "## Data"
   ]
  },
  {
   "cell_type": "code",
   "execution_count": null,
   "id": "83e6f0a1",
   "metadata": {},
   "outputs": [],
   "source": [
    "import pandas as pd\n",
    "import numpy as np\n",
    "import matplotlib.pyplot as plt\n",
    "import seaborn as sns\n",
    "%matplotlib inline"
   ]
  },
  {
   "cell_type": "code",
   "execution_count": null,
   "id": "0674c611",
   "metadata": {},
   "outputs": [],
   "source": [
    "pd.options.display.max_columns = None # to remove the limit on the number of df columns shown in output\n",
    "pd.options.display.precision = 3 # to have 3 decimal points as a global option in dataframes\n",
    "np.set_printoptions(precision = 3) # to have 3 decimal points as a global option in simple print outputs\n",
    "np.set_printoptions(suppress = True) # to avoid scientific notation in the outputs\n",
    "pd.options.display.float_format = '{:,.3f}'.format # 3 decimal points and ',' for larger floats in Pandas dataframes"
   ]
  },
  {
   "cell_type": "code",
   "execution_count": null,
   "id": "a524b1a9",
   "metadata": {},
   "outputs": [],
   "source": [
    "Housing = pd.read_csv(\"https://raw.githubusercontent.com/monahatami1/monogram1/master/USA_Housing.csv\")"
   ]
  },
  {
   "cell_type": "code",
   "execution_count": null,
   "id": "7a66bb9b",
   "metadata": {},
   "outputs": [],
   "source": [
    "Housing.head()"
   ]
  },
  {
   "cell_type": "code",
   "execution_count": null,
   "id": "79ac5e3c",
   "metadata": {},
   "outputs": [],
   "source": [
    "Housing.isnull().sum()"
   ]
  },
  {
   "cell_type": "markdown",
   "id": "87c97f42",
   "metadata": {},
   "source": [
    "I don't like column heads that are so long! So I am going to change those to 1-2 words maximum length. It will easier to handle if shorter."
   ]
  },
  {
   "cell_type": "code",
   "execution_count": null,
   "id": "f80389c4",
   "metadata": {},
   "outputs": [],
   "source": [
    "ColNames = \"Income Age Rooms BedroomArea Population Price Address\".split()"
   ]
  },
  {
   "cell_type": "code",
   "execution_count": null,
   "id": "2babba5b",
   "metadata": {},
   "outputs": [],
   "source": [
    "Housing = pd.read_csv(\"https://raw.githubusercontent.com/monahatami1/monogram1/master/USA_Housing.csv\", \n",
    "                      skiprows = 1,\n",
    "                     names = ColNames)"
   ]
  },
  {
   "cell_type": "code",
   "execution_count": null,
   "id": "4f7b481b",
   "metadata": {
    "scrolled": true
   },
   "outputs": [],
   "source": [
    "pd.options.display.float_format = '{:,.2f}'.format # 1 decimal points and ',' for larger floats in Pandas dataframes\n",
    "Housing.head()"
   ]
  },
  {
   "cell_type": "code",
   "execution_count": null,
   "id": "046515d4",
   "metadata": {},
   "outputs": [],
   "source": [
    "Housing.info()"
   ]
  },
  {
   "cell_type": "code",
   "execution_count": null,
   "id": "5524584f",
   "metadata": {
    "scrolled": true
   },
   "outputs": [],
   "source": [
    "Housing.describe()"
   ]
  },
  {
   "cell_type": "markdown",
   "id": "60540bce",
   "metadata": {},
   "source": [
    "## EDA"
   ]
  },
  {
   "cell_type": "code",
   "execution_count": null,
   "id": "b8c3bf91",
   "metadata": {
    "scrolled": true
   },
   "outputs": [],
   "source": [
    "sns.pairplot(Housing)"
   ]
  },
  {
   "cell_type": "code",
   "execution_count": null,
   "id": "28a35d86",
   "metadata": {
    "scrolled": false
   },
   "outputs": [],
   "source": [
    "sns.histplot(data = Housing['Price'], \n",
    "             bins = 20,\n",
    "             kde = True,\n",
    "             color = \"red\",\n",
    "             fill = \"blue\",\n",
    "             line_kws = {'color': 'red', \n",
    "                         'linewidth': 2,\n",
    "                        'linestyle': \"-.\"})\n",
    "plt.show()"
   ]
  },
  {
   "cell_type": "markdown",
   "id": "e2288e5a",
   "metadata": {},
   "source": [
    "## Training\n",
    "We need predictors and a target. In this case, the target is the house price and the other variables are being used as predictors. Address is also not used assuming it does not provide any additional informaiton on the Price. It may do, if we could extarct zip codes or street names but for now, this column is out!\n",
    "1. Divide dataset into train and test sets using **`train_test_split`** function from `scikit-learn` library's `model_selection` module\n",
    "2. Create a regression model using **`LinearRegression`** function from `scikit-learn` library's `linear_model` module"
   ]
  },
  {
   "cell_type": "code",
   "execution_count": 12,
   "id": "0360f409",
   "metadata": {},
   "outputs": [],
   "source": [
    "X = Housing.iloc[:, 0:5]\n",
    "y = Housing['Price']"
   ]
  },
  {
   "cell_type": "code",
   "execution_count": 18,
   "id": "3428c342",
   "metadata": {},
   "outputs": [],
   "source": [
    "from sklearn.model_selection import train_test_split\n",
    "from sklearn.linear_model import LinearRegression"
   ]
  },
  {
   "cell_type": "code",
   "execution_count": 14,
   "id": "7057c24e",
   "metadata": {},
   "outputs": [],
   "source": [
    "TrainX, TestX, Trainy, Testy = train_test_split(X, y, test_size = 0.4, random_state = 101)"
   ]
  },
  {
   "cell_type": "code",
   "execution_count": 93,
   "id": "7868e446",
   "metadata": {},
   "outputs": [
    {
     "name": "stdout",
     "output_type": "stream",
     "text": [
      "-2640159.7968526953\n"
     ]
    },
    {
     "data": {
      "text/html": [
       "<div>\n",
       "<style scoped>\n",
       "    .dataframe tbody tr th:only-of-type {\n",
       "        vertical-align: middle;\n",
       "    }\n",
       "\n",
       "    .dataframe tbody tr th {\n",
       "        vertical-align: top;\n",
       "    }\n",
       "\n",
       "    .dataframe thead th {\n",
       "        text-align: right;\n",
       "    }\n",
       "</style>\n",
       "<table border=\"1\" class=\"dataframe\">\n",
       "  <thead>\n",
       "    <tr style=\"text-align: right;\">\n",
       "      <th></th>\n",
       "      <th>Coefficient</th>\n",
       "    </tr>\n",
       "  </thead>\n",
       "  <tbody>\n",
       "    <tr>\n",
       "      <th>Intercept</th>\n",
       "      <td>-2,640,159.80</td>\n",
       "    </tr>\n",
       "    <tr>\n",
       "      <th>Income</th>\n",
       "      <td>21.53</td>\n",
       "    </tr>\n",
       "    <tr>\n",
       "      <th>Age</th>\n",
       "      <td>164,883.28</td>\n",
       "    </tr>\n",
       "    <tr>\n",
       "      <th>Rooms</th>\n",
       "      <td>122,368.68</td>\n",
       "    </tr>\n",
       "    <tr>\n",
       "      <th>BedroomArea</th>\n",
       "      <td>2,233.80</td>\n",
       "    </tr>\n",
       "    <tr>\n",
       "      <th>Population</th>\n",
       "      <td>15.15</td>\n",
       "    </tr>\n",
       "  </tbody>\n",
       "</table>\n",
       "</div>"
      ],
      "text/plain": [
       "              Coefficient\n",
       "Intercept   -2,640,159.80\n",
       "Income              21.53\n",
       "Age            164,883.28\n",
       "Rooms          122,368.68\n",
       "BedroomArea      2,233.80\n",
       "Population          15.15"
      ]
     },
     "execution_count": 93,
     "metadata": {},
     "output_type": "execute_result"
    }
   ],
   "source": [
    "lm = LinearRegression()\n",
    "lm.fit(TrainX, Trainy)\n",
    "print(lm.intercept_)\n",
    "pd.DataFrame(data = list([lm.intercept_]) + list(lm.coef_), \n",
    "             index = ['Intercept'] + list(X.columns), \n",
    "             columns = ['Coefficient'])"
   ]
  },
  {
   "cell_type": "markdown",
   "id": "b921ee99",
   "metadata": {},
   "source": [
    "top of Predictions from our Model from https://github.com/monahatami1/monogram1/blob/master/notebook1-week8-LinearRegression.ipynb"
   ]
  },
  {
   "cell_type": "code",
   "execution_count": null,
   "id": "85798478",
   "metadata": {},
   "outputs": [],
   "source": []
  },
  {
   "cell_type": "code",
   "execution_count": null,
   "id": "32cc9da3",
   "metadata": {},
   "outputs": [],
   "source": []
  },
  {
   "cell_type": "code",
   "execution_count": null,
   "id": "c698b450",
   "metadata": {},
   "outputs": [],
   "source": []
  },
  {
   "cell_type": "code",
   "execution_count": null,
   "id": "71fa12db",
   "metadata": {},
   "outputs": [],
   "source": []
  },
  {
   "cell_type": "code",
   "execution_count": null,
   "id": "5d237042",
   "metadata": {},
   "outputs": [],
   "source": []
  },
  {
   "cell_type": "code",
   "execution_count": null,
   "id": "9be0a8b3",
   "metadata": {},
   "outputs": [],
   "source": []
  },
  {
   "cell_type": "code",
   "execution_count": null,
   "id": "9aa71bb1",
   "metadata": {},
   "outputs": [],
   "source": []
  },
  {
   "cell_type": "code",
   "execution_count": null,
   "id": "01556620",
   "metadata": {},
   "outputs": [],
   "source": []
  },
  {
   "cell_type": "code",
   "execution_count": null,
   "id": "4ab44130",
   "metadata": {},
   "outputs": [],
   "source": []
  },
  {
   "cell_type": "code",
   "execution_count": null,
   "id": "101f66dc",
   "metadata": {},
   "outputs": [],
   "source": []
  },
  {
   "cell_type": "code",
   "execution_count": null,
   "id": "158038a9",
   "metadata": {},
   "outputs": [],
   "source": []
  }
 ],
 "metadata": {
  "kernelspec": {
   "display_name": "Python 3 (ipykernel)",
   "language": "python",
   "name": "python3"
  },
  "language_info": {
   "codemirror_mode": {
    "name": "ipython",
    "version": 3
   },
   "file_extension": ".py",
   "mimetype": "text/x-python",
   "name": "python",
   "nbconvert_exporter": "python",
   "pygments_lexer": "ipython3",
   "version": "3.11.1"
  }
 },
 "nbformat": 4,
 "nbformat_minor": 5
}
