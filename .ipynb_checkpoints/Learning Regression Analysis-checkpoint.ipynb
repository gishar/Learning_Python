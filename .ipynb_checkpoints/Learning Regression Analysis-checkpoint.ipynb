{
 "cells": [
  {
   "cell_type": "markdown",
   "id": "9cfec658",
   "metadata": {},
   "source": [
    "# Regression"
   ]
  },
  {
   "cell_type": "code",
   "execution_count": null,
   "id": "83e6f0a1",
   "metadata": {},
   "outputs": [],
   "source": [
    "import pandas as pd\n",
    "import numpy as np\n",
    "import matplotlib.pyplot as plt\n",
    "import seaborn as sns\n",
    "%matplotlib inline"
   ]
  },
  {
   "cell_type": "code",
   "execution_count": null,
   "id": "a524b1a9",
   "metadata": {},
   "outputs": [],
   "source": [
    "Housing = pd.read_csv(\"https://raw.githubusercontent.com/monahatami1/monogram1/master/USA_Housing.csv\")"
   ]
  },
  {
   "cell_type": "code",
   "execution_count": null,
   "id": "7a66bb9b",
   "metadata": {},
   "outputs": [],
   "source": [
    "Housing.head()"
   ]
  },
  {
   "cell_type": "code",
   "execution_count": null,
   "id": "79ac5e3c",
   "metadata": {},
   "outputs": [],
   "source": [
    "Housing.isnull().sum()"
   ]
  },
  {
   "cell_type": "markdown",
   "id": "e89b47fe",
   "metadata": {},
   "source": [
    "Pick up from here: https://github.com/monahatami1/monogram1/blob/master/notebook1-week8-LinearRegression.ipynb"
   ]
  },
  {
   "cell_type": "code",
   "execution_count": null,
   "id": "046515d4",
   "metadata": {},
   "outputs": [],
   "source": []
  },
  {
   "cell_type": "code",
   "execution_count": null,
   "id": "101f66dc",
   "metadata": {},
   "outputs": [],
   "source": []
  },
  {
   "cell_type": "code",
   "execution_count": null,
   "id": "158038a9",
   "metadata": {},
   "outputs": [],
   "source": []
  }
 ],
 "metadata": {
  "kernelspec": {
   "display_name": "Python 3 (ipykernel)",
   "language": "python",
   "name": "python3"
  },
  "language_info": {
   "codemirror_mode": {
    "name": "ipython",
    "version": 3
   },
   "file_extension": ".py",
   "mimetype": "text/x-python",
   "name": "python",
   "nbconvert_exporter": "python",
   "pygments_lexer": "ipython3",
   "version": "3.11.1"
  }
 },
 "nbformat": 4,
 "nbformat_minor": 5
}
