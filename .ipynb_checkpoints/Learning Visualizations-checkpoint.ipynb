{
 "cells": [
  {
   "cell_type": "code",
   "execution_count": null,
   "id": "5664b67b",
   "metadata": {},
   "outputs": [],
   "source": [
    "# pip install seaborn"
   ]
  },
  {
   "cell_type": "code",
   "execution_count": null,
   "id": "cc8cfee1",
   "metadata": {},
   "outputs": [],
   "source": [
    "import pandas as pd\n",
    "import seaborn as sns\n",
    "import matplotlib.pyplot as plt"
   ]
  },
  {
   "cell_type": "code",
   "execution_count": null,
   "id": "dadb7b4c",
   "metadata": {},
   "outputs": [],
   "source": [
    "# to allows plots displayed directly in the output cells of the notebook, instead of in a separate window. \n",
    "%matplotlib inline"
   ]
  },
  {
   "cell_type": "markdown",
   "id": "1a5a3022",
   "metadata": {},
   "source": [
    "The \"tips\" dataset in Seaborn is a built-in dataset that provides information about different aspects of tips received by servers at a restaurant. This dataset contains information such as total bill amount, tip amount, time of day, day of the week, and gender of the person paying the bill. This dataset is used in various data analysis and visualizations tutorials and examples to demonstrate the functionality of Seaborn library.\n",
    "* total_bill: total bill (cost) of the meal, in US dollars\n",
    "* tip: tip (gratuity) left by the diners, in US dollars\n",
    "* sex: gender of the person who paid the bill (\"Male\" or \"Female\")\n",
    "* smoker: smoker or non-smoker (Yes or No)\n",
    "* day: day of the week (Thur, Fri, Sat, Sun)\n",
    "* time: time of the meal (Lunch or Dinner)\n",
    "* size: number of diners"
   ]
  },
  {
   "cell_type": "code",
   "execution_count": null,
   "id": "a320791d",
   "metadata": {},
   "outputs": [],
   "source": [
    "tips = sns.load_dataset('tips')\n",
    "tips.head(10).tail(2)"
   ]
  },
  {
   "cell_type": "code",
   "execution_count": null,
   "id": "ea9d61b1",
   "metadata": {},
   "outputs": [],
   "source": [
    "pd.crosstab(tips['sex'], tips['day'])"
   ]
  },
  {
   "cell_type": "markdown",
   "id": "8b58a76d",
   "metadata": {},
   "source": [
    "# Countplot\n",
    "This is similar to the barplot in R with the following common options (for me at least):\n",
    "- data: DataFrame or array-like\n",
    "- x: Categorical column name or vector\n",
    "- y: Column name or vector for vertical plotting.\n",
    "- hue: Column name or vector for color encoding\n",
    "- order: Order to plot the categorical levels in\n",
    "- hue_order: Order to plot the categorical levels of the hue variable in\n",
    "- palette: Color palette name or list of colors\n",
    "\n",
    "A palette is a sequence of colors that can be used to define the colors of the visual elements in a plot. There is a variety of built-in color palettes in seasborn or we can create a custom palette. Some examples of built-in color palettes in seaborn are: *deep*, *muted*, *bright*, *dark*, *pastel*, etc. You can access these palettes using the \"color_palette()\" function, e.g. `sns.color_palette('bright')` or using directly the name of the palette as an argument in the plotting functions.\n",
    "- color: Color for all of the elements, or seed for a gradient palette\n",
    "- dodge: Shift bars along the categorical axis. If you set `dodge=True` each category has its own space.\n",
    "- linewidth: The width of the line in points\n",
    "- alpha: The transparency of the fill color."
   ]
  },
  {
   "cell_type": "code",
   "execution_count": null,
   "id": "905f7ce2",
   "metadata": {},
   "outputs": [],
   "source": [
    "# Countplot is a barplot showing the counts of observations in each categories of the variable.\n",
    "sns.countplot(data = tips, x = 'sex')\n",
    "plt.show()"
   ]
  },
  {
   "cell_type": "code",
   "execution_count": null,
   "id": "f1f483d0",
   "metadata": {},
   "outputs": [],
   "source": [
    "# using hue to specify a second categorical variable to group the data by and add additional color distinction to the plot.\n",
    "sns.countplot(data = tips,\n",
    "              x = 'sex',\n",
    "              hue ='day',\n",
    "              order = ['Female', 'Male'],\n",
    "              palette = \"husl\",\n",
    "              dodge = True,\n",
    "              linewidth = 1,\n",
    "              alpha = 0.6\n",
    "             )\n",
    "plt.show()"
   ]
  },
  {
   "cell_type": "markdown",
   "id": "6c4beb27",
   "metadata": {},
   "source": [
    "# Histogram\n",
    "Using `histplot` from seaborn with the following options:\n",
    "- data: The dataset that you want to plot.\n",
    "- x: The name of the column in data that should be used for the x-axis.\n",
    "- bins: The number of bins to use in the histogram.\n",
    "- hist: Whether to show the histogram.\n",
    "- kde: Whether to show the kernel density estimate (KDE) plot.\n",
    "- kde_kws: A dictionary of additional keyword arguments to pass to the kdeplot function.\n",
    "- rug: Whether to show the rug plot (vertical lines representing individual observations).\n",
    "- fit: The type of distribution to fit to the data.\n",
    "- color: The color to use for the histogram and KDE plot.\n",
    "- fill: Whether to fill the histogram.\n",
    "- line_kws: A dictionary of additional keyword arguments to pass to the plot function for the KDE plot.\n",
    "- ax: The matplotlib axes to use for the plot. If not provided, a new axes will be created."
   ]
  },
  {
   "cell_type": "code",
   "execution_count": null,
   "id": "eb1779b9",
   "metadata": {},
   "outputs": [],
   "source": [
    "sns.histplot(data = tips['total_bill'], \n",
    "             bins = 5,\n",
    "             binwidth= 2,\n",
    "             kde = True,\n",
    "             color = \"red\",\n",
    "             fill = \"blue\",\n",
    "             line_kws = {'color': 'red', \n",
    "                         'linewidth': 2,\n",
    "                        'linestyle': \"-.\"}\n",
    "            ) \n",
    "plt.show()"
   ]
  },
  {
   "cell_type": "markdown",
   "id": "605772b1",
   "metadata": {},
   "source": [
    "# Scatter Plot\n",
    "To make a scatterplot with the options:\n",
    "- x and y: the x and y variables that are used to create the scatter plot\n",
    "- hue: the column in the data used to color-code the points in the scatter plot\n",
    "- style: the column in the data used to style-code the points in the scatter plot\n",
    "- size: the column in the data used to size-code the points in the scatter plot\n",
    "- palette: the color palette used for the hue or style encoding\n",
    "- markers: the marker style used for plotting the points\n",
    "- alpha: the transparency of the plotted points\n",
    "- legend: whether to show the legend or not"
   ]
  },
  {
   "cell_type": "code",
   "execution_count": null,
   "id": "c3185767",
   "metadata": {},
   "outputs": [],
   "source": [
    "sns.scatterplot(data = tips,\n",
    "                x = 'total_bill', \n",
    "                y = 'tip',\n",
    "                hue = 'sex',\n",
    "                palette = 'dark',\n",
    "                style = 'smoker',\n",
    "                alpha = 0.7,\n",
    "                legend = True,\n",
    "#                 markers = '.' # shouldn't use this together with style\n",
    "               )\n",
    "plt.show()"
   ]
  },
  {
   "cell_type": "markdown",
   "id": "0379f8ca",
   "metadata": {},
   "source": [
    "## Pairwise Plot"
   ]
  },
  {
   "cell_type": "code",
   "execution_count": null,
   "id": "550c34fb",
   "metadata": {},
   "outputs": [],
   "source": [
    "sns.pairplot(tips) ; plt.show()"
   ]
  },
  {
   "cell_type": "code",
   "execution_count": null,
   "id": "48ddaffc",
   "metadata": {},
   "outputs": [],
   "source": [
    "sns.pairplot(tips, \n",
    "             hue = 'sex', \n",
    "             palette = 'muted')\n",
    "plt.show()"
   ]
  },
  {
   "cell_type": "markdown",
   "id": "3fb0a503",
   "metadata": {},
   "source": [
    "## Join Plot"
   ]
  },
  {
   "cell_type": "code",
   "execution_count": null,
   "id": "9d1a6fbb",
   "metadata": {},
   "outputs": [],
   "source": [
    "sns.jointplot(x='total_bill',y='tip',data=tips,kind='scatter')\n",
    "plt.show()"
   ]
  },
  {
   "cell_type": "code",
   "execution_count": null,
   "id": "e445707c",
   "metadata": {},
   "outputs": [],
   "source": [
    "sns.jointplot(x='total_bill',y='tip',data=tips,kind='reg')"
   ]
  },
  {
   "cell_type": "markdown",
   "id": "7c5d97e8",
   "metadata": {},
   "source": [
    "# Boxplot\n",
    "\n",
    "Some good options\n",
    "- x and y: These parameters specify the variables to be plotted on the x and y axes, respectively.\n",
    "- data: The data to be plotted.\n",
    "- color: The color of the box plot elements.\n",
    "- palette: The color palette to be used for the boxes.\n",
    "- width: The width of the boxes.\n",
    "- fliersize: The size of the fliers (outliers) in the plot.\n",
    "- notch: If True, plots a notch in the boxes.\n",
    "- saturation: The saturation level of the colors in the plot.\n",
    "- linewidth: The width of the lines in the plot.\n",
    "- order: The order in which the categories will be plotted.\n",
    "- showmeans: If True, plots a line at the mean value of each category."
   ]
  },
  {
   "cell_type": "code",
   "execution_count": null,
   "id": "fc53ab07",
   "metadata": {},
   "outputs": [],
   "source": [
    "sns.boxplot(data = tips, \n",
    "            x = \"day\", \n",
    "            y = \"total_bill\", \n",
    "            palette = 'rainbow',\n",
    "            width = 0.4, \n",
    "            fliersize = 3,\n",
    "            notch = True,\n",
    "            linewidth = 0.5,\n",
    "            order = \"Sun Sat Fri Thur\".split(),\n",
    "            saturation = 0.2,\n",
    "            showmeans = True,\n",
    "           )\n",
    "plt.show()"
   ]
  },
  {
   "cell_type": "markdown",
   "id": "866c5cd2",
   "metadata": {},
   "source": [
    "To make frames and include multiple charts"
   ]
  },
  {
   "cell_type": "code",
   "execution_count": null,
   "id": "482efc9a",
   "metadata": {},
   "outputs": [],
   "source": [
    "# plt.subplot(nrows, ncols, plot_number)\n",
    "plt.subplot(1,2,1)\n",
    "sns.countplot(x='sex',data=tips) \n",
    "plt.subplot(1,2,2)\n",
    "sns.countplot(x='day',data=tips,);"
   ]
  },
  {
   "cell_type": "markdown",
   "id": "0b163a71",
   "metadata": {},
   "source": [
    "# Heat Maps\n",
    "This can be very useful when doing time-space diagrams, or correlation plots, or anything else that changes between two different variables.\n",
    "`sns.heatmap(data, cmap=None, center=None, annot=False, fmt=\".2g\", square=False, linewidths=0.5, cbar_kws=None, **kwargs)`\n",
    "- data: 2D array-like object or a DataFrame (required)\n",
    "- cmap: the colormap you want to use (default is \"viridis\"). Some options: coolwarm, magma, inferno, plasma, Greys, Blues, etc.\n",
    "- center: the value at which you want to center the colormap (default is None)\n",
    "- annot: whether to annotate the heatmap with the numeric values (default is False)\n",
    "- fmt: the string format for the annotations (default is \".2g\")\n",
    "- square: whether to make the heatmap square (default is False)\n",
    "- linewidths: the width of the lines that will divide each cell in the heatmap (default is 0.5)\n",
    "- cbar_kws: a dictionary of keyword arguments for the colorbar"
   ]
  },
  {
   "cell_type": "code",
   "execution_count": null,
   "id": "c773ede4",
   "metadata": {},
   "outputs": [],
   "source": [
    "sns.heatmap(data = tips.iloc[:,[0, 1, 6]].corr(),\n",
    "            cmap = 'Greens', \n",
    "            annot = True, \n",
    "            fmt = \".5f\",\n",
    "            square = False, \n",
    "            linewidths = 0.2, \n",
    "            linecolor = \"black\",\n",
    "            cbar_kws = None,)\n",
    "plt.show()"
   ]
  },
  {
   "cell_type": "code",
   "execution_count": null,
   "id": "139562cf",
   "metadata": {},
   "outputs": [],
   "source": []
  },
  {
   "cell_type": "code",
   "execution_count": null,
   "id": "1f5ee5d7",
   "metadata": {},
   "outputs": [],
   "source": []
  },
  {
   "cell_type": "code",
   "execution_count": null,
   "id": "3766514b",
   "metadata": {},
   "outputs": [],
   "source": []
  }
 ],
 "metadata": {
  "kernelspec": {
   "display_name": "Python 3 (ipykernel)",
   "language": "python",
   "name": "python3"
  },
  "language_info": {
   "codemirror_mode": {
    "name": "ipython",
    "version": 3
   },
   "file_extension": ".py",
   "mimetype": "text/x-python",
   "name": "python",
   "nbconvert_exporter": "python",
   "pygments_lexer": "ipython3",
   "version": "3.11.1"
  }
 },
 "nbformat": 4,
 "nbformat_minor": 5
}
