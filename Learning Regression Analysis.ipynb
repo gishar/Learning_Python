{
 "cells": [
  {
   "cell_type": "markdown",
   "id": "9cfec658",
   "metadata": {},
   "source": [
    "# Regression"
   ]
  },
  {
   "cell_type": "markdown",
   "id": "e91e8739",
   "metadata": {},
   "source": [
    "## Data"
   ]
  },
  {
   "cell_type": "code",
   "execution_count": null,
   "id": "83e6f0a1",
   "metadata": {},
   "outputs": [],
   "source": [
    "import pandas as pd\n",
    "import numpy as np\n",
    "import matplotlib.pyplot as plt\n",
    "import seaborn as sns\n",
    "%matplotlib inline"
   ]
  },
  {
   "cell_type": "code",
   "execution_count": null,
   "id": "0674c611",
   "metadata": {},
   "outputs": [],
   "source": [
    "pd.options.display.max_columns = None # to remove the limit on the number of df columns shown in output\n",
    "pd.options.display.precision = 3 # to have 3 decimal points as a global option in dataframes\n",
    "pd.options.display.float_format = '{:,.3f}'.format # 3 decimals and ',' for larger floats in pd dataframes\n",
    "np.set_printoptions(precision = 3) # to have 3 decimal points as a global option in simple print outputs\n",
    "np.set_printoptions(suppress = True) # to avoid scientific notation in the outputs\n",
    "np.set_printoptions(formatter={'float': lambda x: \"{:,.3f}\".format(x)}) # 3 decimals and ',' for larger floats in np arrays"
   ]
  },
  {
   "cell_type": "code",
   "execution_count": null,
   "id": "a524b1a9",
   "metadata": {},
   "outputs": [],
   "source": [
    "Housing = pd.read_csv(\"https://raw.githubusercontent.com/monahatami1/monogram1/master/USA_Housing.csv\")"
   ]
  },
  {
   "cell_type": "code",
   "execution_count": null,
   "id": "7a66bb9b",
   "metadata": {},
   "outputs": [],
   "source": [
    "Housing.head()"
   ]
  },
  {
   "cell_type": "code",
   "execution_count": null,
   "id": "79ac5e3c",
   "metadata": {},
   "outputs": [],
   "source": [
    "Housing.isnull().sum()"
   ]
  },
  {
   "cell_type": "markdown",
   "id": "87c97f42",
   "metadata": {},
   "source": [
    "I don't like column heads that are so long! So I am going to change those to 1-2 words maximum length. It will easier to handle if shorter."
   ]
  },
  {
   "cell_type": "code",
   "execution_count": null,
   "id": "f80389c4",
   "metadata": {},
   "outputs": [],
   "source": [
    "ColNames = \"Income Age Rooms BedroomArea Population Price Address\".split()"
   ]
  },
  {
   "cell_type": "code",
   "execution_count": null,
   "id": "2babba5b",
   "metadata": {},
   "outputs": [],
   "source": [
    "Housing = pd.read_csv(\"https://raw.githubusercontent.com/monahatami1/monogram1/master/USA_Housing.csv\", \n",
    "                      skiprows = 1,\n",
    "                     names = ColNames)"
   ]
  },
  {
   "cell_type": "code",
   "execution_count": null,
   "id": "4f7b481b",
   "metadata": {
    "scrolled": true
   },
   "outputs": [],
   "source": [
    "pd.options.display.float_format = '{:,.2f}'.format # 1 decimal points and ',' for larger floats in Pandas dataframes\n",
    "Housing.head()"
   ]
  },
  {
   "cell_type": "code",
   "execution_count": null,
   "id": "046515d4",
   "metadata": {},
   "outputs": [],
   "source": [
    "Housing.info()"
   ]
  },
  {
   "cell_type": "code",
   "execution_count": null,
   "id": "5524584f",
   "metadata": {
    "scrolled": true
   },
   "outputs": [],
   "source": [
    "Housing.describe()"
   ]
  },
  {
   "cell_type": "markdown",
   "id": "60540bce",
   "metadata": {},
   "source": [
    "## EDA"
   ]
  },
  {
   "cell_type": "code",
   "execution_count": null,
   "id": "b8c3bf91",
   "metadata": {
    "scrolled": true
   },
   "outputs": [],
   "source": [
    "sns.pairplot(Housing)"
   ]
  },
  {
   "cell_type": "code",
   "execution_count": null,
   "id": "28a35d86",
   "metadata": {
    "scrolled": false
   },
   "outputs": [],
   "source": [
    "sns.histplot(data = Housing['Price'], \n",
    "             bins = 20,\n",
    "             kde = True,\n",
    "             color = \"red\",\n",
    "             fill = \"blue\",\n",
    "             line_kws = {'color': 'red', \n",
    "                         'linewidth': 2,\n",
    "                        'linestyle': \"-.\"})\n",
    "plt.show()"
   ]
  },
  {
   "cell_type": "markdown",
   "id": "e2288e5a",
   "metadata": {},
   "source": [
    "## Training\n",
    "We need predictors and a target. In this case, the target is the house price and the other variables are being used as predictors. Address is also not used assuming it does not provide any additional informaiton on the Price. It may do, if we could extarct zip codes or street names but for now, this column is out!\n",
    "1. Divide dataset into train and test sets using **`train_test_split`** function from `scikit-learn` library's `model_selection` module\n",
    "2. Create a regression model using **`LinearRegression`** function from `scikit-learn` library's `linear_model` module"
   ]
  },
  {
   "cell_type": "code",
   "execution_count": null,
   "id": "0360f409",
   "metadata": {},
   "outputs": [],
   "source": [
    "X = Housing.iloc[:, 0:5] # Defining the predictor variables\n",
    "y = Housing['Price'] # Defining the target variable"
   ]
  },
  {
   "cell_type": "code",
   "execution_count": null,
   "id": "3428c342",
   "metadata": {},
   "outputs": [],
   "source": [
    "from sklearn.model_selection import train_test_split\n",
    "from sklearn.linear_model import LinearRegression"
   ]
  },
  {
   "cell_type": "code",
   "execution_count": null,
   "id": "7057c24e",
   "metadata": {},
   "outputs": [],
   "source": [
    "TrainX, TestX, Trainy, Testy = train_test_split(X, y, test_size = 0.4, random_state = 101)"
   ]
  },
  {
   "cell_type": "code",
   "execution_count": null,
   "id": "7868e446",
   "metadata": {},
   "outputs": [],
   "source": [
    "lm = LinearRegression() # to make the function simepler to write\n",
    "lm.fit(TrainX, Trainy)  # to fit the regression model to the training dataset\n",
    "print(lm.intercept_)\n",
    "pd.DataFrame(data = list([lm.intercept_]) + list(lm.coef_), \n",
    "             index = ['Intercept'] + list(X.columns), \n",
    "             columns = ['Coefficient'])"
   ]
  },
  {
   "cell_type": "markdown",
   "id": "9a839117",
   "metadata": {},
   "source": [
    "## Testing and Evaluation\n",
    "For testing the model, we will use the fitted model to predict target values on the test set and then compare predictions with observed values to find error rates. There are different metrics or loss functions that can be used for evaluating the fit, as we try to minimize them with better models that predict better.\n",
    "- **Mean Absolute Error**, (the average error / the easiest to understand)\n",
    "- **Mean Squared Error**, (more popular than MAE, because MSE \"punishes\" larger errors, which tends to be useful in real world)\n",
    "- **Root Mean Squared Error** (even more popular than MSE, because RMSE is interpretable in the \"y\" units)"
   ]
  },
  {
   "cell_type": "code",
   "execution_count": null,
   "id": "85798478",
   "metadata": {},
   "outputs": [],
   "source": [
    "Predictions = lm.predict(TestX)"
   ]
  },
  {
   "cell_type": "markdown",
   "id": "fc4b84ee",
   "metadata": {},
   "source": [
    "In ML, the method `.reshape(1, -1)` is used to transform a 1-dimensional numpy array (`np.array()`) into a 2-dimensional array with 1 row and a number of columns equal to the length of the original array. This is often used to prepare data for model training or prediction, as many ML algorithms expect 2-dimensional arrays as input. **The -1 argument in the reshape method is used to automatically calculate the number of columns based on the length of the original array.**"
   ]
  },
  {
   "cell_type": "code",
   "execution_count": null,
   "id": "32cc9da3",
   "metadata": {},
   "outputs": [],
   "source": [
    "# Let's predict the price of a specific house with certain values for its predictors\n",
    "SampleHouse = np.array([68500, 5.9, 6.9, 3.4, 3600]).reshape(1,-1)\n",
    "SampleHouseprice = lm.predict(SampleHouse)\n",
    "print('Predicted price for the sample house is ${0}'.format(round(SampleHouseprice[0], 0)))"
   ]
  },
  {
   "cell_type": "code",
   "execution_count": null,
   "id": "c698b450",
   "metadata": {
    "scrolled": true
   },
   "outputs": [],
   "source": [
    "SampleHouse = np.array([68500, 5.9, 6.9, 3.4, 3600]).reshape(1,-1)\n",
    "SampleHouseprice = lm.predict(SampleHouse)\n",
    "print('Predicted price for the sample house is ${0}'.format(round(SampleHouseprice[0], 0)))"
   ]
  },
  {
   "cell_type": "code",
   "execution_count": null,
   "id": "5d237042",
   "metadata": {},
   "outputs": [],
   "source": [
    "plt.scatter(Testy, Predictions, \n",
    "            marker = '.', \n",
    "            c = \"red\", \n",
    "            s = 1)\n",
    "plt.title('Predicted vs. Observed House Prices') ; plt.xlabel('Observed') ; plt.ylabel('Predicted'); plt.show()"
   ]
  },
  {
   "cell_type": "code",
   "execution_count": null,
   "id": "9be0a8b3",
   "metadata": {},
   "outputs": [],
   "source": [
    "sns.histplot((Testy - Predictions), bins = 50);"
   ]
  },
  {
   "cell_type": "code",
   "execution_count": null,
   "id": "9aa71bb1",
   "metadata": {},
   "outputs": [],
   "source": [
    "from sklearn import metrics"
   ]
  },
  {
   "cell_type": "code",
   "execution_count": null,
   "id": "01556620",
   "metadata": {},
   "outputs": [],
   "source": [
    "print('MAE:', round(metrics.mean_absolute_error(Testy, Predictions), 2))\n",
    "print('MSE:', round(metrics.mean_squared_error(Testy, Predictions), 2))\n",
    "print('RMSE:', round(np.sqrt(metrics.mean_squared_error(Testy, Predictions)), 2))"
   ]
  },
  {
   "cell_type": "code",
   "execution_count": null,
   "id": "158038a9",
   "metadata": {},
   "outputs": [],
   "source": []
  }
 ],
 "metadata": {
  "kernelspec": {
   "display_name": "Python 3 (ipykernel)",
   "language": "python",
   "name": "python3"
  },
  "language_info": {
   "codemirror_mode": {
    "name": "ipython",
    "version": 3
   },
   "file_extension": ".py",
   "mimetype": "text/x-python",
   "name": "python",
   "nbconvert_exporter": "python",
   "pygments_lexer": "ipython3",
   "version": "3.11.1"
  }
 },
 "nbformat": 4,
 "nbformat_minor": 5
}
