{
 "cells": [
  {
   "cell_type": "markdown",
   "id": "869d180a",
   "metadata": {},
   "source": [
    "- Here is a page for [Markdown Cheatsheet](https://github.com/adam-p/markdown-here/wiki/Markdown-Cheatsheet)\n",
    "- Here is a page for [Python Library Documentation](https://docs.python.org/3/library/)"
   ]
  },
  {
   "cell_type": "markdown",
   "id": "cb5bc758",
   "metadata": {},
   "source": [
    "**_Quick tips:_**\n",
    "* Variables are stored in the Kernel (backend processing engine of the codes). If Kernel was to restart, variables are gone and have to be reinitialized.\n",
    "* in command mode (blue border), L toggles line numbers in the code cell.\n",
    "* in command mode, M and Y toggle between markdown and code mode.\n",
    "* to comment our multiple lines, select them and ctrl + /\n",
    "* to have no output when you open the file, from the Kernel menu, restart and clear output or go to cell, All output and clear\n",
    "* to toggle between showing and not showing output, simply use the key O (I changed this to be Clear Cell Output shortcut)\n",
    "* to edit keyboard shortcuts, click on H and assign or edit\n",
    "* to bring the command pallete: P, then quickly type what you want and do it\n",
    "\n",
    "1. Numerical/quantitative variables divided into continuous (floats) and discrete (integers)\n",
    "2. Categorical variables are nominal (boolean, string, None), and ordinal (e.g. lists since they have indeces)\n",
    "3. Mean of a list of boolean variables will count the number of True (1) values and divide by the number of items!\n",
    "4. Shift + L puts a number on the lines of code so you can see how many lines are written in each cell. Pressing L on a cell will remove line numbers for that cell."
   ]
  },
  {
   "cell_type": "code",
   "execution_count": null,
   "id": "9eb77064",
   "metadata": {},
   "outputs": [],
   "source": [
    "pip list # to see a list of the libraries installed on your machine"
   ]
  },
  {
   "cell_type": "code",
   "execution_count": null,
   "id": "c876124c",
   "metadata": {},
   "outputs": [],
   "source": [
    "# importing some libraries that will be needed\n",
    "import numpy as np   # for computation purposes with tools for arrays and numerical data\n",
    "import pandas as pd  # for data manipulation and analysis with easy-to-use data structures and data analysis tools\n",
    "import math          # for various mathematical functions and constants for numerical computations\n",
    "import sys\n",
    "import string        # for string manipulation functions such as concatenation, case conversion, trimming, and search\n",
    "import seaborn as sns # to create visually appealing and informative statistical graphics \n",
    "import matplotlib.pyplot as plt # for creating data visualizations in the form of charts, graphs, and plots\n",
    "# another way to write the above is from matplotlib import pyplot as plt\n",
    "\n",
    "%matplotlib inline # to allow the user to display matplotlib plots directly in the notebook output cell."
   ]
  },
  {
   "cell_type": "code",
   "execution_count": 7,
   "id": "3812073a",
   "metadata": {},
   "outputs": [],
   "source": [
    "from pydataset import data # to use the data() function to load datasets (available in R) in python and do things!"
   ]
  },
  {
   "cell_type": "code",
   "execution_count": null,
   "id": "bdfd1d3b",
   "metadata": {},
   "outputs": [],
   "source": [
    "pd.options.display.max_columns = None # to remove the limit on the number of df columns shown in output\n",
    "pd.options.display.precision = 3 # to have 3 decimal points as a global option in dataframes\n",
    "np.set_printoptions(precision = 3) # to have 3 decimal points as a global option in simple print outputs\n",
    "np.set_printoptions(suppress = True) # to avoid scientific notation in the outputs (not related to numbers Pandas' df)"
   ]
  },
  {
   "cell_type": "markdown",
   "id": "ccb17667",
   "metadata": {},
   "source": [
    "This is just my pet peeve! To set the global option to show 3 decimals for all floats in pandas dataframes, and will apply to all dataframes created or shown afterwards. This is useful when a new column is created and it shows in scientific format! Otherwise the `pd.options.display.precision = 3` does the job for existingn dfs."
   ]
  },
  {
   "cell_type": "code",
   "execution_count": null,
   "id": "d094b46d",
   "metadata": {},
   "outputs": [],
   "source": [
    "pd.set_option('display.float_format', lambda x: '%.3f' % x)\n",
    "# to revert the above: use pd.set_option('display.float_format', None)"
   ]
  },
  {
   "cell_type": "markdown",
   "id": "d3321bb5",
   "metadata": {},
   "source": [
    "# Some General Functions"
   ]
  },
  {
   "cell_type": "code",
   "execution_count": null,
   "id": "df47caa5",
   "metadata": {},
   "outputs": [],
   "source": [
    "sys.version # to check the version of the python we're running"
   ]
  },
  {
   "cell_type": "code",
   "execution_count": null,
   "id": "0a44edc7",
   "metadata": {},
   "outputs": [],
   "source": [
    "# %whos # to see what objects/variables, etc. we have in the memory - only works in IPython and not in shell or Jupyter!\n",
    "dir() # returns a list of names in the current local scope or a specified object."
   ]
  },
  {
   "cell_type": "code",
   "execution_count": null,
   "id": "a49b183f",
   "metadata": {},
   "outputs": [],
   "source": [
    "n = [1, 3, 6, 8, 13, 1, 4]\n",
    "print(type(n))\n",
    "sum(n) # sum of the numbers in the list"
   ]
  },
  {
   "cell_type": "code",
   "execution_count": null,
   "id": "f3374a60",
   "metadata": {},
   "outputs": [],
   "source": [
    "len(n) # length of the list"
   ]
  },
  {
   "cell_type": "code",
   "execution_count": null,
   "id": "8a2cbfa2",
   "metadata": {},
   "outputs": [],
   "source": [
    "x = round(math.pi, 4)  # the number pi from the math library\n",
    "print(x) ; del x ; x"
   ]
  },
  {
   "cell_type": "code",
   "execution_count": null,
   "id": "8f7cd61b",
   "metadata": {},
   "outputs": [],
   "source": [
    "str(math.pi) # to convert data type to string"
   ]
  },
  {
   "cell_type": "code",
   "execution_count": null,
   "id": "83648739",
   "metadata": {},
   "outputs": [],
   "source": [
    "l = ([True, 6 == 5, 4 > 3, None is None, 7]) \n",
    "print(l)\n",
    "sum(l)/len(l) # there are 3 true values and a 7 totalling 10 divided by 5 gets 2 (as float)"
   ]
  },
  {
   "cell_type": "code",
   "execution_count": null,
   "id": "be527679",
   "metadata": {},
   "outputs": [],
   "source": [
    "l.sort() # to sort the items inside a list which actually changes the ordring in that list too\n",
    "l"
   ]
  },
  {
   "cell_type": "code",
   "execution_count": null,
   "id": "eb5247d0",
   "metadata": {},
   "outputs": [],
   "source": [
    "np.mean(l)"
   ]
  },
  {
   "cell_type": "code",
   "execution_count": null,
   "id": "f9827eb5",
   "metadata": {},
   "outputs": [],
   "source": [
    "[None]*5 # to create a list containing 5 None items\n",
    "type(None)"
   ]
  },
  {
   "cell_type": "code",
   "execution_count": null,
   "id": "f34a66a2",
   "metadata": {},
   "outputs": [],
   "source": [
    "a = np.array([0,1,2,3,4,5,6,7,8,9,10])\n",
    "type(a)"
   ]
  },
  {
   "cell_type": "markdown",
   "id": "21b47104",
   "metadata": {},
   "source": [
    "# Data Types\n",
    "In Python, there are several built-in data types: \n",
    "1. Numeric: int, float, complex\n",
    "2. Sequences: list, tuple, range\n",
    "3. Text: str\n",
    "4. Mapping: dict\n",
    "5. Set: set, frozenset\n",
    "6. Boolean: bool\n",
    "7. Binary: bytes, bytearray\n",
    "8. None: NoneType\n",
    "\n",
    "In addition to these built-in data types, Python also supports ***custom data types***, such as **classes** and **objects**.\n",
    "Let's Look at the Sequences:"
   ]
  },
  {
   "cell_type": "markdown",
   "id": "86c9b7c6",
   "metadata": {},
   "source": [
    "## Strings"
   ]
  },
  {
   "cell_type": "code",
   "execution_count": null,
   "id": "373897fc",
   "metadata": {},
   "outputs": [],
   "source": [
    "txt = \"She said \\\"Never let go\\\".\"  # Backslashes (\\) are used to escape characters\n",
    "print(txt)\n",
    "print(\"length of txt is \" + str(len(txt)) + \" characters\")\n",
    "print(\"m\" in txt)"
   ]
  },
  {
   "cell_type": "code",
   "execution_count": null,
   "id": "687a5473",
   "metadata": {},
   "outputs": [],
   "source": [
    "txt  = \"Gishar\"\n",
    "print(txt[1] + \", \" + txt[-1] + \", \" + txt[4:6] + \", \" + txt[:4] + \", \" + txt[-3:])"
   ]
  },
  {
   "cell_type": "code",
   "execution_count": null,
   "id": "1e112a05",
   "metadata": {},
   "outputs": [],
   "source": [
    "for letter in txt:\n",
    "    print(letter)"
   ]
  },
  {
   "cell_type": "code",
   "execution_count": null,
   "id": "5f703d9a",
   "metadata": {},
   "outputs": [],
   "source": [
    "txt.lower() + ' ' + txt.upper()  # to make string all lower letter or all capital letters"
   ]
  },
  {
   "cell_type": "code",
   "execution_count": null,
   "id": "8c89421e",
   "metadata": {},
   "outputs": [],
   "source": [
    "(\"   There were three chars first and 5 at the end!     \").strip() # the strip method to remove chars from start and end"
   ]
  },
  {
   "cell_type": "code",
   "execution_count": null,
   "id": "20757abe",
   "metadata": {},
   "outputs": [],
   "source": [
    "(\"   There were three chars first and 5 at the end!     \").strip().title() # to return string with first letter capitalized"
   ]
  },
  {
   "cell_type": "code",
   "execution_count": null,
   "id": "af174090",
   "metadata": {},
   "outputs": [],
   "source": [
    "txt.split('s') # use a character to split text"
   ]
  },
  {
   "cell_type": "code",
   "execution_count": null,
   "id": "ad844f2b",
   "metadata": {},
   "outputs": [],
   "source": [
    "# practice with split method and set function! One \"the\" & \"dove\" remained. if upper was not used, the and The were there!\n",
    "set(\"The dove dove into the water\".upper().split())"
   ]
  },
  {
   "cell_type": "code",
   "execution_count": null,
   "id": "3f9e269d",
   "metadata": {},
   "outputs": [],
   "source": [
    "# contiue from here: https://www.codecademy.com/learn/learn-python-3/modules/learn-python3-strings/cheatsheet"
   ]
  },
  {
   "cell_type": "markdown",
   "id": "b15470ec",
   "metadata": {},
   "source": [
    "## Integer, Float, Boolean"
   ]
  },
  {
   "cell_type": "code",
   "execution_count": 1,
   "id": "95587f3c",
   "metadata": {},
   "outputs": [
    {
     "data": {
      "text/plain": [
       "int"
      ]
     },
     "execution_count": 1,
     "metadata": {},
     "output_type": "execute_result"
    }
   ],
   "source": [
    "x = 1 ; y = 2.3\n",
    "type(x) # type to see the type of an object"
   ]
  },
  {
   "cell_type": "code",
   "execution_count": null,
   "id": "f04c041d",
   "metadata": {},
   "outputs": [],
   "source": [
    "float(x) # to convert to float"
   ]
  },
  {
   "cell_type": "code",
   "execution_count": null,
   "id": "896215a0",
   "metadata": {},
   "outputs": [],
   "source": [
    "float(True) # convert boolean to float which gives 0.o for false and 1.0 for true"
   ]
  },
  {
   "cell_type": "code",
   "execution_count": null,
   "id": "81f083ff",
   "metadata": {},
   "outputs": [],
   "source": [
    "int(y) # to convert to integer"
   ]
  },
  {
   "cell_type": "code",
   "execution_count": null,
   "id": "dacd864a",
   "metadata": {},
   "outputs": [],
   "source": [
    "str(y) # to convert to string"
   ]
  },
  {
   "cell_type": "code",
   "execution_count": null,
   "id": "3fcd791b",
   "metadata": {
    "scrolled": true
   },
   "outputs": [],
   "source": [
    "print(1>3) # print the logical result of operation\n",
    "bool(0) # convert 0 to boolean is equal to False and any other number is equal to 1"
   ]
  },
  {
   "cell_type": "code",
   "execution_count": null,
   "id": "41587b3c",
   "metadata": {},
   "outputs": [],
   "source": []
  },
  {
   "cell_type": "markdown",
   "id": "5d174743",
   "metadata": {},
   "source": [
    "## Lists\n",
    "Lists in Python are a collection of items, ordered and mutable. A list can contain items of different data types, such as integers, floating-point numbers, strings, and so on. Lists are defined using square brackets, with the items separated by commas. \n",
    "\n",
    "Lists allow you to store, manipulate and retrieve elements efficiently, making them one of the most commonly used data structures in Python. You can access individual elements using indexing, add elements to a list using the _append_ method, remove elements using the _remove_ method, and _sort_ the list using the sort method, among other operations."
   ]
  },
  {
   "cell_type": "code",
   "execution_count": null,
   "id": "e3bf1fc4",
   "metadata": {},
   "outputs": [],
   "source": [
    "heights = [[\"Noelle\", 61], [\"Ava\", 70], [\"Sam\", 67], [\"Mia\", 64]] # 2D list is a good structure for representing grids\n",
    "myclass = [\n",
    "        [\"Kenny\", \"American\", 9],\n",
    "        [\"Tanya\", \"Ukrainian\", 9],\n",
    "        [\"Madison\", \"Indian\", 7]\n",
    "        ]\n",
    "print(heights[2][1]) # to call an item in a 2D list we use two [], first to call the list index, second to call the item index in the list\n",
    "print(myclass[1]) # print the whole list in the 2D list called by its index\n",
    "print(myclass[-2][-2])"
   ]
  },
  {
   "cell_type": "code",
   "execution_count": null,
   "id": "84f049d5",
   "metadata": {},
   "outputs": [],
   "source": [
    "myclass[1][1] = \"Albanian\" # same index as [-2][-2]\n",
    "print(myclass[-2][-2])"
   ]
  },
  {
   "cell_type": "code",
   "execution_count": null,
   "id": "c1bb4bc3",
   "metadata": {},
   "outputs": [],
   "source": [
    "myclass[1].remove(\"Tanya\") # to remove or append an item from/to a list inside a 2D list, apply the function on the specific list inside!\n",
    "myclass"
   ]
  },
  {
   "cell_type": "code",
   "execution_count": null,
   "id": "d4743003",
   "metadata": {},
   "outputs": [],
   "source": [
    "myclass.sort() # to sort the list (based on the first elements of each list inside a 2D list)\n",
    "myclass"
   ]
  },
  {
   "cell_type": "code",
   "execution_count": null,
   "id": "b6add75e",
   "metadata": {},
   "outputs": [],
   "source": [
    "x = [] # to create an empty list in an implicit way\n",
    "x = list() # to create an empty list in an explicit way"
   ]
  },
  {
   "cell_type": "code",
   "execution_count": null,
   "id": "915b6c9c",
   "metadata": {},
   "outputs": [],
   "source": [
    "x = [3, 1, 20, 2, 2, 3, 5, \"hi\"]  # a list can contain anything\n",
    "print(x[1]) # to see the item on index 1 (indices on lists start from 0)\n",
    "print(x[2:6]) # to see the items on index 2 to 5 (last number exclusive)"
   ]
  },
  {
   "cell_type": "code",
   "execution_count": null,
   "id": "b270edae",
   "metadata": {},
   "outputs": [],
   "source": [
    "x.count(3)"
   ]
  },
  {
   "cell_type": "code",
   "execution_count": null,
   "id": "94fa7a99",
   "metadata": {},
   "outputs": [],
   "source": [
    "x.append(2)\n",
    "x"
   ]
  },
  {
   "cell_type": "code",
   "execution_count": null,
   "id": "d00ecd97",
   "metadata": {},
   "outputs": [],
   "source": [
    "# different ways to update or extract info from a list\n",
    "x.append([True]) # Appends the item to the end of the list\n",
    "x.append(True) # Appends the item to the end of the list\n",
    "x"
   ]
  },
  {
   "cell_type": "code",
   "execution_count": null,
   "id": "02799c1f",
   "metadata": {},
   "outputs": [],
   "source": [
    "x[1:2]=[\"Two\", \"three\"]\n",
    "x += [23, \"No\", False] # another way to add to a list other than using append which only adds 1 item. we can use extend too\n",
    "x"
   ]
  },
  {
   "cell_type": "code",
   "execution_count": null,
   "id": "a79f9aff",
   "metadata": {},
   "outputs": [],
   "source": [
    "# [None] is an list with 1 Null or No-value itemNone is not the same as 0, False, or an empty string. None is a data type of its own (NoneType) and only None can be None.\n",
    "x.append([None]*5)"
   ]
  },
  {
   "cell_type": "code",
   "execution_count": null,
   "id": "4fe33514",
   "metadata": {},
   "outputs": [],
   "source": [
    "x.remove(2) # removes the item from the list the first time it shows up in the list (for removing by index, use pop() method)"
   ]
  },
  {
   "cell_type": "code",
   "execution_count": null,
   "id": "edf980ca",
   "metadata": {},
   "outputs": [],
   "source": [
    "x = x[0:5]"
   ]
  },
  {
   "cell_type": "code",
   "execution_count": null,
   "id": "83d93e8f",
   "metadata": {},
   "outputs": [],
   "source": [
    "x.extend([6, \"Yes\", False])  # to append more than 1 item, we extend: equivalent to concatenating two lists"
   ]
  },
  {
   "cell_type": "code",
   "execution_count": null,
   "id": "02272f28",
   "metadata": {},
   "outputs": [],
   "source": [
    "x.insert(0, 3) # to insert a new entry into a list using index: .insert(index, value)\n",
    "x.insert(-4, \"text this time\")"
   ]
  },
  {
   "cell_type": "code",
   "execution_count": null,
   "id": "cf163ce7",
   "metadata": {},
   "outputs": [],
   "source": [
    "x.pop(1) # to remove an item from a list using index: .pop(index) - without an index it simply removed the last one\n",
    "x"
   ]
  },
  {
   "cell_type": "code",
   "execution_count": null,
   "id": "3c574469",
   "metadata": {},
   "outputs": [],
   "source": [
    "r = x.pop(1) # we can save the removed value to a variable if we care to use it later\n",
    "print(r)  # stores the removed (popped) item into another variable\n",
    "print(x)"
   ]
  },
  {
   "cell_type": "code",
   "execution_count": null,
   "id": "53b3d947",
   "metadata": {},
   "outputs": [],
   "source": [
    "name = list(\"GISHAR\")\n",
    "print(\"name = \", name) # this is what list function does to strings."
   ]
  },
  {
   "cell_type": "code",
   "execution_count": null,
   "id": "335f1ba3",
   "metadata": {},
   "outputs": [],
   "source": [
    "name.sort() # this is a method to sort the original list. after this is done, if you print the list, you'll see the sorted version\n",
    "print(\"soreted name = \", name)"
   ]
  },
  {
   "cell_type": "code",
   "execution_count": null,
   "id": "e67c8063",
   "metadata": {},
   "outputs": [],
   "source": [
    "name.sort(reverse=True)\n",
    "print(\"reverse sorted name = \", name)"
   ]
  },
  {
   "cell_type": "markdown",
   "id": "2f336f07",
   "metadata": {},
   "source": [
    "### Numpy Arrays\n",
    "NumPy arrays are **multi-dimensional arrays** used in numerical computing with Python. They allow for fast computation and manipulation of large arrays of data. They support a variety of operations including *element-wise operations, slicing, and indexing*. **NumPy arrays are more efficient than regular Python lists for large data sets and are widely used in data analysis and scientific computing**.\n",
    "\n",
    "Let's look at these common stuff from np: \n",
    "\n",
    "`np.array()`, `np.arange()`, `np.zeros()`, `np.ones()`, `np.linspace()`, `np.eye()`, \n",
    "\n",
    "`np.random.rand()`, `np.random.randn()`, `np.random.randit()`,  \n",
    "\n",
    "`reshape()`, `.shape`, `.dtype`, `.max()`, `.argmax()`, `.min()`, `.argmin()`"
   ]
  },
  {
   "cell_type": "code",
   "execution_count": null,
   "id": "6ededc2e",
   "metadata": {},
   "outputs": [],
   "source": [
    "np.random.seed(101) # to use a specific seed for generating random numbers"
   ]
  },
  {
   "cell_type": "code",
   "execution_count": null,
   "id": "59198b30",
   "metadata": {},
   "outputs": [],
   "source": [
    "mylist = [3, 1, 20, 2, 2, 3, 5]\n",
    "nplist = np.array(mylist)\n",
    "print(mylist)\n",
    "print(nplist)"
   ]
  },
  {
   "cell_type": "code",
   "execution_count": null,
   "id": "de3d4616",
   "metadata": {},
   "outputs": [],
   "source": [
    "mymatrix = [[1,2,3],[4,5,6],[7,8,9]]\n",
    "npmatrix = np.array(mymatrix)\n",
    "print(mymatrix)\n",
    "print(npmatrix)"
   ]
  },
  {
   "cell_type": "code",
   "execution_count": null,
   "id": "1d6b4f44",
   "metadata": {},
   "outputs": [],
   "source": [
    "nprange = np.arange(1, 50, 3) # generating a range using numpy's arange function\n",
    "print(nprange)"
   ]
  },
  {
   "cell_type": "code",
   "execution_count": null,
   "id": "5003da3e",
   "metadata": {},
   "outputs": [],
   "source": [
    "x = np.zeros(4) # generate a 1x4 matrix of zeros\n",
    "y = np.zeros((3,3)) # generate a 3x3 matrix of zeros\n",
    "z = np.ones((2,3)) # generate a 2x3 matrix of ones\n",
    "print(x) ; print(y) ; print(z)"
   ]
  },
  {
   "cell_type": "code",
   "execution_count": null,
   "id": "0bbde150",
   "metadata": {},
   "outputs": [],
   "source": [
    "x = np.linspace(0.5, 20, 40) # generate 40 numbers between 0.5 and 20, evenly spaced, starting from 0.5\n",
    "y = np.eye(4) # genearte identity matrix of NxN\n",
    "print(x); print(y) \n",
    "y.shape # dimension of the object"
   ]
  },
  {
   "cell_type": "code",
   "execution_count": null,
   "id": "bd499803",
   "metadata": {},
   "outputs": [],
   "source": [
    "np.random.rand(3, 2, 3) # generate random numbers from uniform distribution between 0 and 1 placed in the form asked"
   ]
  },
  {
   "cell_type": "code",
   "execution_count": null,
   "id": "d185ad23",
   "metadata": {},
   "outputs": [],
   "source": [
    "np.random.randn(3, 2) # generate random numbers from std normal distribution placed in the form asked"
   ]
  },
  {
   "cell_type": "code",
   "execution_count": null,
   "id": "77cdcf5e",
   "metadata": {},
   "outputs": [],
   "source": [
    "np.random.randint(1, 100, 6) # generate 6 random numbers between 1 and 100"
   ]
  },
  {
   "cell_type": "code",
   "execution_count": null,
   "id": "259d942b",
   "metadata": {},
   "outputs": [],
   "source": [
    "x = np.arange(30)\n",
    "print(x)\n",
    "x.reshape(5,6) # to reshape the data into a matrix form "
   ]
  },
  {
   "cell_type": "code",
   "execution_count": null,
   "id": "79f0db97",
   "metadata": {},
   "outputs": [],
   "source": [
    "# argmax returns the index of the max and similarly argmin\n",
    "x = np.random.randint(1, 100, 6)\n",
    "print(x); print(x.max()); print(x.argmax()); print(x.min()); print(x.argmin())"
   ]
  },
  {
   "cell_type": "code",
   "execution_count": null,
   "id": "88907263",
   "metadata": {
    "scrolled": true
   },
   "outputs": [],
   "source": [
    "print(x.dtype) # type of the data stored in the object\n",
    "print(type(x)) # type of the object itself"
   ]
  },
  {
   "cell_type": "markdown",
   "id": "5ce560a6",
   "metadata": {},
   "source": [
    "### Range\n",
    "a built-in function that generates a sequence of numbers. It allows you to generate a sequence of numbers from a starting number to an ending number with a specified step."
   ]
  },
  {
   "cell_type": "code",
   "execution_count": null,
   "id": "1a20c15a",
   "metadata": {},
   "outputs": [],
   "source": [
    "y = range(10) # range(start, end/exclusive, step) is unique in that it creates a range object! to use it as a list, we have to convert it using the list() function\n",
    "print(y)\n",
    "list(y)"
   ]
  },
  {
   "cell_type": "code",
   "execution_count": null,
   "id": "0243a018",
   "metadata": {},
   "outputs": [],
   "source": [
    "z = list(range(2, 20, 2))\n",
    "print(z)\n",
    "len(z) # to see the length of a list"
   ]
  },
  {
   "cell_type": "code",
   "execution_count": null,
   "id": "42d14a9c",
   "metadata": {},
   "outputs": [],
   "source": [
    "names = [\"Jenny\", \"Alexus\", \"Sam\", \"Grace\"]\n",
    "heights = [61, 70, 67, 64]\n",
    "# takes two (or more) lists as inputs and returns an object that contains a list of pairs. Each pair contains one element from each of the inputs.\n",
    "names_and_heights = zip(names, heights)\n",
    "print(names_and_heights)\n",
    "print(list(names_and_heights))"
   ]
  },
  {
   "cell_type": "markdown",
   "id": "d97bf453",
   "metadata": {},
   "source": [
    "## Tuple\n",
    "A tuple is a collection of **ordered, immutable, and heterogeneous** data elements in Python. It's similar to a list, but you can't modify its elements once it's created. Tuples are declared using round brackets ( ) and its elements are separated by commas.\n",
    "\n",
    "Tuples are commonly used to represent ordered collections of **data that shouldn't change**, for example, coordinates in a map, or dates in a calendar. They're also **faster than lists for some operations and use less memory, making them ideal for data that doesn't need to be modified**."
   ]
  },
  {
   "cell_type": "code",
   "execution_count": null,
   "id": "82d7e3a5",
   "metadata": {},
   "outputs": [],
   "source": [
    "mytuple = ('Mike', 24, 'Programmer')\n",
    "mytuple[0] # works the same way as in lists\n",
    "# mytuple[0] = \"Joe\" # this will error due to immutability of tuples"
   ]
  },
  {
   "cell_type": "code",
   "execution_count": null,
   "id": "a2f78d63",
   "metadata": {},
   "outputs": [],
   "source": [
    "print(mytuple[1:]) # all the same like those in list but nothing can change with tuples\n",
    "name, age, occupation = mytuple # unpacking a tuple by putting variables equal to tuple (no of vars equal to no of elements in tuple - order matters)\n",
    "x = (4,) # to create a 1-element tuple we need the , in there. Otherwise, it's just a number and not a tuple\n",
    "x"
   ]
  },
  {
   "cell_type": "markdown",
   "id": "68851611",
   "metadata": {},
   "source": [
    "## Set\n",
    "A set in Python is an collection of unique elements. Sets are commonly used to **remove duplicates from a list** or to perform **mathematical set operations such as union, intersection, and difference**. They are defined using curly braces {} or the built-in **set()** function.\n",
    "- lists and tuples can have repetitive values, unlike sets\n",
    "- it seems that sets are ordered, no matter how you enter the values when defining it!\n",
    "- tuples can't change! sets and lists can"
   ]
  },
  {
   "cell_type": "code",
   "execution_count": null,
   "id": "81e377ac",
   "metadata": {},
   "outputs": [],
   "source": [
    "fruits = {\"apple\", \"banana\", \"cherry\", \"apple\", \"apple\", \"cherry\"}\n",
    "fruits"
   ]
  },
  {
   "cell_type": "code",
   "execution_count": null,
   "id": "74be019d",
   "metadata": {},
   "outputs": [],
   "source": [
    "mylist = [1, 20, 2, 2, 3, 5, 3, 2, 3, \"hi\"]\n",
    "print(mylist) ; print(type(mylist))\n",
    "myset = set(mylist)\n",
    "print(myset) ; print(type(myset))\n",
    "mytuple = (1, 20, 2, 2, 3, 5, 3, 2, 3, \"hi\")\n",
    "print(mytuple) ; print(type(mytuple))"
   ]
  },
  {
   "cell_type": "code",
   "execution_count": null,
   "id": "0711c3ab",
   "metadata": {},
   "outputs": [],
   "source": [
    "y.add(1.5) # to add an element to a set (can't be done to a tuple) (for list, we use append attribute)\n",
    "y"
   ]
  },
  {
   "cell_type": "code",
   "execution_count": null,
   "id": "fc7a99fc",
   "metadata": {},
   "outputs": [],
   "source": [
    "mytuple.count(2) # how many of these values are in the tuple (count is used in lists too)"
   ]
  },
  {
   "cell_type": "code",
   "execution_count": null,
   "id": "978aefbe",
   "metadata": {},
   "outputs": [],
   "source": [
    "mytuple.index(3) # provide the index number for the value"
   ]
  },
  {
   "cell_type": "code",
   "execution_count": null,
   "id": "50d244b3",
   "metadata": {},
   "outputs": [],
   "source": [
    "mylist.index(3) # the index for the only the first time values shows up in the list"
   ]
  },
  {
   "cell_type": "markdown",
   "id": "4fd71bc2",
   "metadata": {},
   "source": [
    "## Dictionary\n",
    "A dictionary is a collection of key-value pairs. It is an **unordered, mutable, and indexed data structure**. You can access, add, remove, and update the items in a dictionary using the keys. The keys in a dictionary must be unique and can be of any hashable data type (e.g. string, integer, etc.). The values can be of any data type. The syntax to define a dictionary is using curly braces {} with key-value pairs separated by colons. For example: my_dict = {'key1': 'value1', 'key2': 'value2'}"
   ]
  },
  {
   "cell_type": "code",
   "execution_count": null,
   "id": "a01abcf6",
   "metadata": {},
   "outputs": [],
   "source": [
    "person = {\"name\": \"John Doe\", \"age\": 30, \"city\": \"New York\", 'Favorite Numbers':[3, 13, 42]} # create a dictionary\n",
    "type(person)"
   ]
  },
  {
   "cell_type": "markdown",
   "id": "2f3b0872",
   "metadata": {},
   "source": [
    "# Pandas Dataframe\n",
    "A dataframe is another name for dictionary when we use pandas library to work with dictionaries. It is a two-dimensional labeled data structure that can store data of different types. It is a commonly used data structure for data analysis and manipulation. Dataframes are created and manipulated using the Pandas library in Python. They are similar to spreadsheets or SQL tables, allowing you to store, manipulate, and analyze data efficiently. Each column in a dataframe is a pandas Series, and each row is represented by an index. Dataframes have methods and attributes that allow you to perform operations such as selecting rows and columns, filtering, grouping, and aggregating data, and much more.\n",
    "- `.assign()` to add new columns without modifying the original df (like in a new df, similar to the `mutate` in R's `dplyr`)\n",
    "- `query()` to filter based on conditions, similar to SQL\n",
    "- `sort_values()` to sort a DataFrame by one or multiple columns\n",
    "- `.set_index` to set an index column\n",
    "- `.name` to name a column\n",
    "\n",
    "Sme of the additional useful methods that I may come back to them or may come up in the data analysis learning files:\n",
    "- `.sample()` to randomly sample rows from df\n",
    "- `.fillna()` to fill the missing values with a specified value or method\n",
    "- `.pivot_table()` to do pivot tables out of the df, obviously! Dah!\n",
    "- `.groupby()` to perform aggregate operations on the groups\n",
    "- `.transpose()` to transpose df, Dah!\n",
    "- `.merge()` similar to SQL's joins to combine dfs based on one or more commmon columns\n",
    "- `.rename()` to change name of columns\n",
    "- `.to_csv()` to export to a csv file on the drive"
   ]
  },
  {
   "cell_type": "code",
   "execution_count": null,
   "id": "62f8e591",
   "metadata": {},
   "outputs": [],
   "source": [
    "pd.DataFrame(person) # making a dataframe from the dictionary created above using pandas"
   ]
  },
  {
   "cell_type": "code",
   "execution_count": null,
   "id": "a4251444",
   "metadata": {},
   "outputs": [],
   "source": [
    "type(pd.DataFrame(person))"
   ]
  },
  {
   "cell_type": "code",
   "execution_count": null,
   "id": "46bdda6f",
   "metadata": {},
   "outputs": [],
   "source": [
    "# first takes a matrix, then index = for rownames, columns = for colnames\n",
    "np.random.seed(101)\n",
    "df = pd.DataFrame(np.random.randn(5, 4), \n",
    "                  index = 'A B C D E'.split(),\n",
    "                  columns='W X Y Z'.split()\n",
    "                 )\n",
    "df"
   ]
  },
  {
   "cell_type": "code",
   "execution_count": null,
   "id": "b2c5647f",
   "metadata": {},
   "outputs": [],
   "source": [
    "df.index # to extract the index of a dataframe"
   ]
  },
  {
   "cell_type": "code",
   "execution_count": null,
   "id": "251a8a38",
   "metadata": {},
   "outputs": [],
   "source": [
    "df['W'] # to get a column"
   ]
  },
  {
   "cell_type": "code",
   "execution_count": null,
   "id": "51f82e37",
   "metadata": {},
   "outputs": [],
   "source": [
    "df[['X', 'Y']] # to get multiple columns"
   ]
  },
  {
   "cell_type": "code",
   "execution_count": null,
   "id": "162c7013",
   "metadata": {},
   "outputs": [],
   "source": [
    "df[0:2] # to get rows by index numbers"
   ]
  },
  {
   "cell_type": "code",
   "execution_count": null,
   "id": "69ebfa3e",
   "metadata": {},
   "outputs": [],
   "source": [
    "df.loc['A'] # to get rows by index labels"
   ]
  },
  {
   "cell_type": "code",
   "execution_count": null,
   "id": "6c55a4bb",
   "metadata": {},
   "outputs": [],
   "source": [
    "df.loc[['C', 'D'], ['X', 'Y']] # to get a bunch of rows and columns from dataframe using index labels"
   ]
  },
  {
   "cell_type": "code",
   "execution_count": null,
   "id": "9f82f04a",
   "metadata": {},
   "outputs": [],
   "source": [
    "df.iloc[0:2] # also to get rows by index number (in this case first two rows) similarly, df.iloc[:2]"
   ]
  },
  {
   "cell_type": "code",
   "execution_count": null,
   "id": "bccea40c",
   "metadata": {},
   "outputs": [],
   "source": [
    "df.iloc[:, 0] # to get the first column"
   ]
  },
  {
   "cell_type": "code",
   "execution_count": null,
   "id": "576aac56",
   "metadata": {},
   "outputs": [],
   "source": [
    "df.iloc[:, :3] # to get the first 3 columns"
   ]
  },
  {
   "cell_type": "code",
   "execution_count": null,
   "id": "5d3481e5",
   "metadata": {},
   "outputs": [],
   "source": [
    "df.iloc[2:4, 1:3] # to get a bunch of rows and columns from dataframe using index labels"
   ]
  },
  {
   "cell_type": "code",
   "execution_count": null,
   "id": "73b188a8",
   "metadata": {},
   "outputs": [],
   "source": [
    "df>0 # to make a condition out of the data in the dataframe"
   ]
  },
  {
   "cell_type": "code",
   "execution_count": null,
   "id": "cf8bb811",
   "metadata": {},
   "outputs": [],
   "source": [
    "df[df>0]"
   ]
  },
  {
   "cell_type": "code",
   "execution_count": null,
   "id": "4c508acc",
   "metadata": {},
   "outputs": [],
   "source": [
    "df[df['W']>0]"
   ]
  },
  {
   "cell_type": "code",
   "execution_count": null,
   "id": "f5eaa367",
   "metadata": {},
   "outputs": [],
   "source": [
    "df[df['W']>0]['X']"
   ]
  },
  {
   "cell_type": "code",
   "execution_count": null,
   "id": "25d3d0c1",
   "metadata": {},
   "outputs": [],
   "source": [
    "df[df['W']>0].iloc[1]"
   ]
  },
  {
   "cell_type": "code",
   "execution_count": null,
   "id": "8be10aa4",
   "metadata": {},
   "outputs": [],
   "source": [
    "df[(df['W']>0) & (df['Y'] > 1)]"
   ]
  },
  {
   "cell_type": "code",
   "execution_count": null,
   "id": "30350669",
   "metadata": {},
   "outputs": [],
   "source": [
    "# drop = True to remove the original index / inplace is used to replace the original df\n",
    "df2 = df.reset_index(drop=True, inplace=False) \n",
    "df2"
   ]
  },
  {
   "cell_type": "code",
   "execution_count": null,
   "id": "21e969b6",
   "metadata": {},
   "outputs": [],
   "source": [
    "df2['MyIndex'] = list(string.ascii_uppercase)[10:15] \n",
    "df2.set_index('MyIndex', inplace=True) \n",
    "df2"
   ]
  },
  {
   "cell_type": "code",
   "execution_count": null,
   "id": "764f8fe6",
   "metadata": {},
   "outputs": [],
   "source": [
    "df = pd.concat([df1, df2], axis = 0) # to concatenate two or more dataframes vertically\n",
    "df = pd.concat([df1, df2], axis = 1) # to concatenate two or more dataframes horizontally"
   ]
  },
  {
   "cell_type": "code",
   "execution_count": null,
   "id": "ed8e2b9f",
   "metadata": {},
   "outputs": [],
   "source": [
    "df2 = df.assign(VehicleBMI = df['CurbWeight']/df['Height']**2) # create a new variable from existing variables into a new df"
   ]
  },
  {
   "cell_type": "code",
   "execution_count": null,
   "id": "fd0007a4",
   "metadata": {},
   "outputs": [],
   "source": [
    "df.query(\"CityMPG > 35 and Fuel == 'gas' and Horsepower < 60\") # query from data (slower than boolean indexing e.g. below)"
   ]
  },
  {
   "cell_type": "code",
   "execution_count": null,
   "id": "87feeff0",
   "metadata": {},
   "outputs": [],
   "source": [
    "df[df['CityMPG'] > 35][df['Fuel'] == 'gas'][df['Horsepower'] < 60]"
   ]
  },
  {
   "cell_type": "code",
   "execution_count": null,
   "id": "c6b963e3",
   "metadata": {},
   "outputs": [],
   "source": [
    "df.head()"
   ]
  },
  {
   "cell_type": "code",
   "execution_count": null,
   "id": "52c654bf",
   "metadata": {},
   "outputs": [],
   "source": [
    "df.index.name = \"MyIndex\""
   ]
  },
  {
   "cell_type": "code",
   "execution_count": null,
   "id": "3d510a24",
   "metadata": {
    "scrolled": true
   },
   "outputs": [],
   "source": [
    "df.sort_values(by = 'Length', ascending = False).head()"
   ]
  },
  {
   "cell_type": "code",
   "execution_count": null,
   "id": "48243c7a",
   "metadata": {},
   "outputs": [],
   "source": [
    "df.sort_values(by = ['Length', 'Height'], ascending = [True, False])"
   ]
  },
  {
   "cell_type": "markdown",
   "id": "5a99c877",
   "metadata": {},
   "source": [
    "<div style=\"line-height:0.5\">\n",
    "<strong> Multi-Index in Pandas </strong>\n",
    "\n",
    "Creating *multi-indexed* dataframe using Multiindex in Pandas \n",
    "`.from_tuples` is to make something from a list of tuples\n",
    "</div>    "
   ]
  },
  {
   "cell_type": "code",
   "execution_count": null,
   "id": "609cee89",
   "metadata": {},
   "outputs": [],
   "source": [
    "outside = ['G1','G1','G1','G2','G2','G2'] \n",
    "inside = [1,2,3,1,2,3]\n",
    "hier_index = list(zip(outside, inside)) # zip creates tuples of pairs for each outside and corresponding inside lists\n",
    "# print(hier_index)\n",
    "hier_index = pd.MultiIndex.from_tuples(hier_index) # use the list of zipped tuples and make a MultiIndex object\n",
    "# print(hier_index)\n",
    "df = pd.DataFrame(np.random.randn(6, 2), # make a dataframe with the MultiIndex object as the index\n",
    "                  index = hier_index,\n",
    "                  columns = ['A','B']\n",
    "                 )\n",
    "df"
   ]
  },
  {
   "cell_type": "code",
   "execution_count": null,
   "id": "58835882",
   "metadata": {},
   "outputs": [],
   "source": [
    "df.loc['G2']"
   ]
  },
  {
   "cell_type": "code",
   "execution_count": null,
   "id": "2c6dcadd",
   "metadata": {},
   "outputs": [],
   "source": [
    "df.loc['G2'].loc[3]['B']"
   ]
  },
  {
   "cell_type": "code",
   "execution_count": null,
   "id": "dd0bfd21",
   "metadata": {},
   "outputs": [],
   "source": [
    "df.index.names"
   ]
  },
  {
   "cell_type": "code",
   "execution_count": null,
   "id": "34a88eee",
   "metadata": {},
   "outputs": [],
   "source": [
    "df.index.names = ['Group', 'Number']\n",
    "df"
   ]
  },
  {
   "cell_type": "code",
   "execution_count": null,
   "id": "681c0389",
   "metadata": {},
   "outputs": [],
   "source": [
    "df.xs(('G1', 3)) # returns a specific row in multiindexed dataframe"
   ]
  },
  {
   "cell_type": "code",
   "execution_count": null,
   "id": "94d120eb",
   "metadata": {},
   "outputs": [],
   "source": [
    "df.xs(2, level = 'Number') # returns the row from all indexes where the Number index = 2"
   ]
  },
  {
   "cell_type": "code",
   "execution_count": null,
   "id": "e7db9160",
   "metadata": {},
   "outputs": [],
   "source": [
    "df = pd.read_csv(\"https://raw.githubusercontent.com/gishar/Learning_Python/main/Starwars.csv\")\n",
    "df.head(4)"
   ]
  },
  {
   "cell_type": "code",
   "execution_count": null,
   "id": "bc1dbffe",
   "metadata": {},
   "outputs": [],
   "source": [
    "df = pd.read_csv(\"https://raw.githubusercontent.com/gishar/Learning_Python/main/Starwars.csv\",\n",
    "                 sep = ',', \n",
    "                 header = 0,        # take the first row as the header\n",
    "#                  index_col = 0,     # take the first column as the index\n",
    "#                  skiprows = 5,      # skip the first 5 rows \n",
    "                 na_values = 'N/A'  # change \"N/A\" values to NaN\n",
    "                ) \n",
    "df.head(4)"
   ]
  },
  {
   "cell_type": "code",
   "execution_count": null,
   "id": "d38f0587",
   "metadata": {},
   "outputs": [],
   "source": [
    "type(df)"
   ]
  },
  {
   "cell_type": "code",
   "execution_count": null,
   "id": "d9632372",
   "metadata": {},
   "outputs": [],
   "source": [
    "df.columns # to see the name of the variables / columns"
   ]
  },
  {
   "cell_type": "code",
   "execution_count": null,
   "id": "1b814eec",
   "metadata": {},
   "outputs": [],
   "source": [
    "df.head(3) # see the top 3 rows of data"
   ]
  },
  {
   "cell_type": "code",
   "execution_count": null,
   "id": "e4edb40b",
   "metadata": {},
   "outputs": [],
   "source": [
    "df.tail(2)"
   ]
  },
  {
   "cell_type": "code",
   "execution_count": null,
   "id": "23f8f9d4",
   "metadata": {},
   "outputs": [],
   "source": [
    "# .loc uses labels/column names to call the data from the dataframe\n",
    "df = df.loc[:, [\"cones\", \"ntrees\", \"dbh\", \"height\", \"cover\", \"sntrees\", \"sheight\", \"scover\"]] # removed the index column\n",
    "df.columns # to see the name of the variables / columns"
   ]
  },
  {
   "cell_type": "code",
   "execution_count": null,
   "id": "788e26ee",
   "metadata": {},
   "outputs": [],
   "source": [
    "df.loc[:,\"ntrees\"].head(2)"
   ]
  },
  {
   "cell_type": "code",
   "execution_count": null,
   "id": "2f5c99e4",
   "metadata": {},
   "outputs": [],
   "source": [
    "df.loc[:3, [\"cones\", \"ntrees\", \"cover\", \"height\"]] # show 3 observation for these columns in order that is written"
   ]
  },
  {
   "cell_type": "code",
   "execution_count": null,
   "id": "efec86a1",
   "metadata": {},
   "outputs": [],
   "source": [
    "df.loc[5:7] # sepefic rows for all columns"
   ]
  },
  {
   "cell_type": "code",
   "execution_count": null,
   "id": "709737d6",
   "metadata": {},
   "outputs": [],
   "source": [
    "# .iloc uses integer numbers to slice the dataframe\n",
    "df.iloc[:4] # first 4 rows of the dataframe\n",
    "df.iloc[1:5, 2:4] # rows 1 to 5 (exclusive) and columns 2 to 4 (exclusive on the 4) - note, index starts from 0"
   ]
  },
  {
   "cell_type": "code",
   "execution_count": null,
   "id": "29d91b6e",
   "metadata": {},
   "outputs": [],
   "source": [
    "df.cones.unique() # to get the unique values in a column of a dataframe"
   ]
  },
  {
   "cell_type": "code",
   "execution_count": null,
   "id": "60c43c1b",
   "metadata": {},
   "outputs": [],
   "source": [
    "df['cones'].unique()"
   ]
  },
  {
   "cell_type": "code",
   "execution_count": null,
   "id": "018c4643",
   "metadata": {},
   "outputs": [],
   "source": [
    "# df.groupby([\"cones\", \"ntrees\"]).size()  # to group by the combination of two or more variables and show a sumamrization value (size, mean, etc.)"
   ]
  },
  {
   "cell_type": "code",
   "execution_count": null,
   "id": "fc676598",
   "metadata": {},
   "outputs": [],
   "source": [
    "pd.crosstab(df['hair_color'], df['sex']) # cross tabulation between two variables"
   ]
  },
  {
   "cell_type": "code",
   "execution_count": null,
   "id": "959d0e8e",
   "metadata": {},
   "outputs": [],
   "source": [
    "df['sex'].value_counts() # find count of unique values for each category "
   ]
  },
  {
   "cell_type": "markdown",
   "id": "fb7eb9b9",
   "metadata": {},
   "source": [
    "# Functions"
   ]
  },
  {
   "cell_type": "code",
   "execution_count": null,
   "id": "1157f653",
   "metadata": {},
   "outputs": [],
   "source": [
    "def myfunction():\n",
    "    \"\"\"\n",
    "    This is a description of what this function do. It comes handy when reviewing or sending it to other people\n",
    "    \"\"\"\n",
    "    print('Hello')\n",
    "    print('Oh this is fun')\n",
    "myfunction()"
   ]
  },
  {
   "cell_type": "code",
   "execution_count": null,
   "id": "0ef7fe57",
   "metadata": {},
   "outputs": [],
   "source": [
    "# an example of creating a function\n",
    "def biglittle():\n",
    "    text_with_no_space = input(\"write some text without spaces:\")\n",
    "    funny = max(text_with_no_space) + \" \" + min(text_with_no_space)\n",
    "    return funny"
   ]
  },
  {
   "cell_type": "code",
   "execution_count": null,
   "id": "8a8cdec2",
   "metadata": {},
   "outputs": [],
   "source": [
    "biglittle()"
   ]
  },
  {
   "cell_type": "code",
   "execution_count": null,
   "id": "33952b8c",
   "metadata": {},
   "outputs": [],
   "source": [
    "# another example of a function\n",
    "def greet(lang): # the function receives one input, simply labeled lang here and does work with it and returns something \n",
    "    if lang == \"es\":\n",
    "        print(\"Hola!\")\n",
    "    elif lang == \"fr\":\n",
    "        print(\"Bonjour!\")\n",
    "    else:\n",
    "        print(\"Hello!\")\n",
    "\n",
    "greet(\"fr\") # sends the first parameter into the function"
   ]
  },
  {
   "cell_type": "code",
   "execution_count": null,
   "id": "9cce1ad1",
   "metadata": {},
   "outputs": [],
   "source": [
    "# another example of a function\n",
    "def greet(lang): # the function receives one input, simply labeled lang here and does work with it and returns something \n",
    "    if lang == \"es\":\n",
    "        return \"Hola!\"\n",
    "    elif lang == \"fr\":\n",
    "        return \"Bonjour!\"\n",
    "    else:\n",
    "        return \"Hello!\"\n",
    "\n",
    "print(greet(\"fr\"), \"Jean-claude\")"
   ]
  },
  {
   "cell_type": "code",
   "execution_count": null,
   "id": "22008ef1",
   "metadata": {},
   "outputs": [],
   "source": [
    "# another example of a function\n",
    "def addtwo(x, boo): # a function can have receive mroe than one parameter, label them as they come in, work with them and return \n",
    "    \"\"\"\n",
    "    This function adds the two input numbers and returns their sum\n",
    "    \"\"\"\n",
    "    added = x + boo\n",
    "    return added # return usually is the last line in a fucntion\n",
    "\n",
    "try:\n",
    "    a = float(input(\"Enter first number: \"))\n",
    "    b = float(input(\"Enter second number: \"))\n",
    "    print(\"the sum is equal to: \", addtwo(a,b))\n",
    "except:\n",
    "    print(\"Can't do that! Please enter numbers only\")"
   ]
  },
  {
   "cell_type": "markdown",
   "id": "989fe2ab",
   "metadata": {},
   "source": [
    "# Indefinite Loop (While)"
   ]
  },
  {
   "cell_type": "code",
   "execution_count": null,
   "id": "4215796f",
   "metadata": {},
   "outputs": [],
   "source": [
    "# While loops are called indefinite loops but mostly we use definite loops\n",
    "n = 5 # this is the iteration variable - will need to change or otherwise the loop goes forever\n",
    "while n > 0:\n",
    "    print(n)\n",
    "    n -= 1\n",
    "\n",
    "print(\"It's Over\")"
   ]
  },
  {
   "cell_type": "code",
   "execution_count": null,
   "id": "0917c872",
   "metadata": {},
   "outputs": [],
   "source": [
    "n = 0\n",
    "while True:\n",
    "    line = input(\"Say my name: \")\n",
    "    if line == \"Done\":\n",
    "        break\n",
    "    print(line)\n",
    "\n",
    "print(\"Finally it's over!\")"
   ]
  },
  {
   "cell_type": "markdown",
   "id": "4ca7beba",
   "metadata": {},
   "source": [
    "# Definite Loop (For)"
   ]
  },
  {
   "cell_type": "code",
   "execution_count": null,
   "id": "982e50d8",
   "metadata": {
    "scrolled": true
   },
   "outputs": [],
   "source": [
    "n = list(range(1,6)) # just defining a list of numbers to work with in the For loop\n",
    "for x in n:\n",
    "    print(x)\n",
    "    print(\"Oy!\")"
   ]
  },
  {
   "cell_type": "code",
   "execution_count": null,
   "id": "0afcf70b",
   "metadata": {},
   "outputs": [],
   "source": [
    "x = range(1, 20, 5)\n",
    "out = []\n",
    "for item in x:\n",
    "    out.append(item**2)\n",
    "print(out)"
   ]
  },
  {
   "cell_type": "code",
   "execution_count": null,
   "id": "ed143f9d",
   "metadata": {},
   "outputs": [],
   "source": [
    "guys = ['ali', 'hasan', 'haji']\n",
    "for name in guys:\n",
    "    print(\"Happy new year, \", name)"
   ]
  },
  {
   "cell_type": "code",
   "execution_count": null,
   "id": "ec50c7ed",
   "metadata": {},
   "outputs": [],
   "source": [
    "a = 'abc&xyz'  # string\n",
    "b = 3.16  #float\n",
    "c = {2:'a', 3:'b'}  # dictionary\n",
    "d = 6 < 2  # boolean\n",
    "e = [1,2,3,4,5] # list\n",
    "f = sum(e)  # value returned from a function\n",
    "g = sum # a function\n",
    "\n",
    "for obj in [a,b,c,d,e,f,g]:\n",
    "    print(obj)"
   ]
  },
  {
   "cell_type": "markdown",
   "id": "9915c2c4",
   "metadata": {},
   "source": [
    "# Data Wrangling / Cleaning\n",
    "Following [Mona hatami](https://github.com/monahatami1)'s notebooks on this subject.\n",
    "The process of cleaning, transforming, and mapping data from various sources into a format that can be used for analysis and visualization. I will learn how to handle *missing values*, *data formats*, and *data normalization*.\n",
    "I will need the libraries: `pandas`, `numpy`, `seaborn`, `matplotlib.pyplot`."
   ]
  },
  {
   "cell_type": "markdown",
   "id": "52d8fb9c",
   "metadata": {},
   "source": [
    "Below, will go over the following functions, methods, etc.:\n",
    "- If a dataframe does not have a header in it. We can use the `names` option to assign the header names as a defined list\n",
    "- `.describe()` to get descriptive stat on each numerical variable in the df. This is similar to `summary` in R\n",
    "- `.info()` to get details on the data type and null values for each columsn. Similar to `glimpse` in R\n",
    "- `.unique()` to get unique values of a variable. Great for seeing factor levels\n",
    "- `.replace(A, B, inplace = True)` to replace missing/strange/unknown values and update the dataset\n",
    "- `.dropna(axis = 0)` to drop rows with missing values (0 is the default)\n",
    "- `.dropna(axis = 1)` to drop columns with missing values\n",
    "- `.isnull().sum()` to see number of null values in the variables (`isna()` does the same thing)\n",
    "- `.astype('float')` to change the type of the data to another format\n",
    "- `.idxmax()` to find the index/label of the max value in a Series or the row with the max value in a df column\n",
    "\n",
    "To handle missing data, we can either drop the row, column, or replace the missing value by the mean, median, etc. of the variable."
   ]
  },
  {
   "cell_type": "code",
   "execution_count": null,
   "id": "56b2acab",
   "metadata": {},
   "outputs": [],
   "source": [
    "headers = [\"Symbol\",\"NormalizedLoss\",\"Make\",\"Fuel\",\"Aspiration\", \"Doors\",\"Body\", \"DriveWheels\",\"EngineLoc\",\"WheelBase\", \n",
    "           \"Length\",\"Width\",\"Height\",\"CurbWeight\",\"EngineType\", \"Cylinders\", \"EngineSize\",\"FuelSystem\",\"Bore\",\"Stroke\",\n",
    "           \"CompressionRatio\",\"Horsepower\", \"PeakRPM\",\"CityMPG\",\"HighwayMPG\",\"Price\"]"
   ]
  },
  {
   "cell_type": "code",
   "execution_count": null,
   "id": "b464addc",
   "metadata": {},
   "outputs": [],
   "source": [
    "df = pd.read_csv(\"https://raw.githubusercontent.com/monahatami1/monogram1/master/imports-85.data\", \n",
    "                 names = headers)\n",
    "df.head(4)"
   ]
  },
  {
   "cell_type": "code",
   "execution_count": null,
   "id": "4eb7eb20",
   "metadata": {},
   "outputs": [],
   "source": [
    "df.describe(include = \"all\") # other choices for include or exclude are object for strings, number for numeric values"
   ]
  },
  {
   "cell_type": "code",
   "execution_count": null,
   "id": "8b5822d5",
   "metadata": {},
   "outputs": [],
   "source": [
    "df.describe(percentiles=[0.1, 0.2, 0.3, 0.4])"
   ]
  },
  {
   "cell_type": "code",
   "execution_count": null,
   "id": "885e4dd7",
   "metadata": {},
   "outputs": [],
   "source": [
    "df.describe(exclude = 'number')"
   ]
  },
  {
   "cell_type": "code",
   "execution_count": null,
   "id": "4f596b57",
   "metadata": {
    "scrolled": true
   },
   "outputs": [],
   "source": [
    "df.info()"
   ]
  },
  {
   "cell_type": "markdown",
   "id": "999faa88",
   "metadata": {},
   "source": [
    "### Dropping Rows/Columns with Missing Values"
   ]
  },
  {
   "cell_type": "code",
   "execution_count": null,
   "id": "b171c096",
   "metadata": {},
   "outputs": [],
   "source": [
    "# see unique values in all variables of the df - This will show us if there are missing data in our dataset.\n",
    "for i in headers:\n",
    "    print(\"Unique values in \", i, \" = \", df[i].unique())"
   ]
  },
  {
   "cell_type": "code",
   "execution_count": null,
   "id": "a1d187ae",
   "metadata": {},
   "outputs": [],
   "source": [
    "df.replace(\"?\", np.NaN, inplace = True) # could use na_values = \"?\" when read_csv too"
   ]
  },
  {
   "cell_type": "code",
   "execution_count": null,
   "id": "6685b71d",
   "metadata": {},
   "outputs": [],
   "source": [
    "df.isnull().sum() # to see number of null values in the variables"
   ]
  },
  {
   "cell_type": "code",
   "execution_count": null,
   "id": "17068fd8",
   "metadata": {
    "scrolled": true
   },
   "outputs": [],
   "source": [
    "df.isnull() "
   ]
  },
  {
   "cell_type": "code",
   "execution_count": null,
   "id": "d507d474",
   "metadata": {
    "scrolled": true
   },
   "outputs": [],
   "source": [
    "df.isnull().any(axis = 0) # if any column has a missing value it will show as true"
   ]
  },
  {
   "cell_type": "code",
   "execution_count": null,
   "id": "8928b48d",
   "metadata": {},
   "outputs": [],
   "source": [
    "df.isnull().any(axis = 1) # if any row has a missing value it will show as true"
   ]
  },
  {
   "cell_type": "code",
   "execution_count": null,
   "id": "d7118ee0",
   "metadata": {},
   "outputs": [],
   "source": [
    "df[df.isnull().any(axis = 1)] # using the above as condition to get all rows with some missing values"
   ]
  },
  {
   "cell_type": "code",
   "execution_count": null,
   "id": "c537b7b8",
   "metadata": {},
   "outputs": [],
   "source": [
    "df.dropna(axis = 0) # to drop rows with missing values and update the df"
   ]
  },
  {
   "cell_type": "code",
   "execution_count": null,
   "id": "93637f61",
   "metadata": {},
   "outputs": [],
   "source": [
    "df.dropna(axis=1) # to drop columns with missing values"
   ]
  },
  {
   "cell_type": "code",
   "execution_count": null,
   "id": "f528f73c",
   "metadata": {},
   "outputs": [],
   "source": [
    "df.drop(['var1', 'var2'], axis = 1) # to simply drop columns we don't want in the dataset"
   ]
  },
  {
   "cell_type": "markdown",
   "id": "8b410ed8",
   "metadata": {},
   "source": [
    "### Replacing Missing Values of Cells with Mean, Median, etc."
   ]
  },
  {
   "cell_type": "code",
   "execution_count": null,
   "id": "aabbbdab",
   "metadata": {},
   "outputs": [],
   "source": [
    "df.tail(4)"
   ]
  },
  {
   "cell_type": "code",
   "execution_count": null,
   "id": "1056f553",
   "metadata": {},
   "outputs": [],
   "source": [
    "NormalizedLossMean = df['NormalizedLoss'].astype('float').mean() # find the mean value of a column\n",
    "df['NormalizedLoss'].replace(np.nan, NormalizedLossMean, inplace = True) # replace missing values with mean"
   ]
  },
  {
   "cell_type": "code",
   "execution_count": null,
   "id": "8408743a",
   "metadata": {},
   "outputs": [],
   "source": [
    "df.isnull().any(axis = 0)[df.isnull().any(axis = 0)] # show only columns with missing values"
   ]
  },
  {
   "cell_type": "code",
   "execution_count": null,
   "id": "6f3e249c",
   "metadata": {},
   "outputs": [],
   "source": [
    "# find the average of values in numerical columns with missing values (only columns that makes sense)\n",
    "StrokeMean = df['Stroke'].astype('float').mean(axis=0)  # axis = 0 is default so it won't matter\n",
    "BoreMean = df['Bore'].astype('float').mean()\n",
    "HorsepowerMean = df['Horsepower'].astype('float').mean()\n",
    "RPMMean = df['PeakRPM'].astype('float').mean()\n",
    "print(\"Average Stroke:\", round(StrokeMean,3), \n",
    "      \"\\nAverage of Bore:\", round(BoreMean, 3),\n",
    "      \"\\nAverage Horsepower:\", round(HorsepowerMean, 3),\n",
    "      \"\\nAverage Peak RPM:\", round(RPMMean, 3)\n",
    "     )"
   ]
  },
  {
   "cell_type": "code",
   "execution_count": null,
   "id": "cbe85575",
   "metadata": {},
   "outputs": [],
   "source": [
    "# replace missing values with the mean values on those columns\n",
    "df['Stroke'].replace(np.nan, StrokeMean, inplace = True)\n",
    "df[\"Bore\"].replace(np.nan, BoreMean, inplace=True)\n",
    "df[\"Horsepower\"].replace(np.nan, HorsepowerMean, inplace=True)\n",
    "df[\"PeakRPM\"].replace(np.nan, RPMMean, inplace=True)"
   ]
  },
  {
   "cell_type": "code",
   "execution_count": null,
   "id": "a4ed7147",
   "metadata": {},
   "outputs": [],
   "source": [
    "print(df['Doors'].value_counts())\n",
    "DoorsMode = df['Doors'].value_counts().idxmax() # to see which value has the max count (mode of variable) to replace missings\n",
    "DoorsMode"
   ]
  },
  {
   "cell_type": "code",
   "execution_count": null,
   "id": "d07f1144",
   "metadata": {},
   "outputs": [],
   "source": [
    "df['Doors'].replace(np.nan, DoorsMode, inplace=True)"
   ]
  },
  {
   "cell_type": "markdown",
   "id": "6227cc12",
   "metadata": {},
   "source": [
    "**We can use the `subset` parameter in dropna() to define the columns with missing values.** Everytime we drop rows, it's best to reset the indices."
   ]
  },
  {
   "cell_type": "code",
   "execution_count": null,
   "id": "7e60f2a2",
   "metadata": {},
   "outputs": [],
   "source": [
    "df.dropna(subset = [\"Price\"], axis = 0, inplace = True)"
   ]
  },
  {
   "cell_type": "code",
   "execution_count": null,
   "id": "92e49952",
   "metadata": {},
   "outputs": [],
   "source": [
    "df.head()"
   ]
  },
  {
   "cell_type": "code",
   "execution_count": null,
   "id": "01e15b3c",
   "metadata": {},
   "outputs": [],
   "source": [
    "df.reset_index(drop = True, inplace = True) # drop true to drop the original index"
   ]
  },
  {
   "cell_type": "code",
   "execution_count": null,
   "id": "b274c45f",
   "metadata": {},
   "outputs": [],
   "source": [
    "df.info() # to do a last check on the variables with missing values - also can check their types"
   ]
  },
  {
   "cell_type": "markdown",
   "id": "f15ddadb",
   "metadata": {},
   "source": [
    "### Cleaning Data Formats\n",
    "This is to remove those with Object format and put them into int, float, etc. for this purpose, `.dtype()` is used to check the type (for the whole df can use `df.dtypes`) and `.astype()` is used to cast a pandas object to a specified dtype. A type of 'object' means it's in strings form in Pandas."
   ]
  },
  {
   "cell_type": "code",
   "execution_count": null,
   "id": "2c6dfbb2",
   "metadata": {},
   "outputs": [],
   "source": [
    "df[[\"Bore\", \"Stroke\",\"PeakRPM\",\"Price\"]] = df[[\"Bore\", \"Stroke\",\"PeakRPM\",\"Price\"]].astype(\"float\")\n",
    "df[[\"NormalizedLoss\"]] = df[[\"NormalizedLoss\"]].astype(\"int\")"
   ]
  },
  {
   "cell_type": "markdown",
   "id": "35252f3d",
   "metadata": {},
   "source": [
    "### Data Normalization\n",
    "ChatGPT: Data normalization is a technique used to transform data into a standardized scale, which allows different features or variables to be compared on an equal footing. The goal of normalization is to bring all the values of a dataset into a common range. This can help to mitigate issues with variable scaling, outliers, and improve the performance of some machine learning algorithms. Additionally, normalization can help to improve the interpretability of data and make it easier to visualize or communicate patterns and trends.\n",
    "\n",
    "Typical normalizations include scaling the variable so the variable average is 0, scaling the variable so the variance is 1, or scaling the variable so the variable values range from 0 to 1.\n",
    "\n",
    "A specific case of this is ***data standardization*** which transform the data to follow a standard normal distribution with a mean of 0 and standard deviation of 1.\n",
    "\n",
    "For example, if the heights of different animals are in the same df under different columns, you could normalize all between 0 and 1 to be able to compare them. Or, maybe you want to have all of your data in the meric system if there is a mix of them."
   ]
  },
  {
   "cell_type": "code",
   "execution_count": null,
   "id": "8826b759",
   "metadata": {},
   "outputs": [],
   "source": [
    "# example: new column defined as standardized Engine Size (following standard normal dist: mean 0 and stdev 1)\n",
    "df['StEngineSize'] = (df['EngineSize']-df['EngineSize'].mean())/df['EngineSize'].std()"
   ]
  },
  {
   "cell_type": "code",
   "execution_count": null,
   "id": "1ef59ab8",
   "metadata": {},
   "outputs": [],
   "source": [
    "df.describe(percentiles=[])"
   ]
  },
  {
   "cell_type": "code",
   "execution_count": null,
   "id": "bc24d5e8",
   "metadata": {},
   "outputs": [],
   "source": [
    "df['NormalWidth'] = (df['Width']-df['Width'].min())/(df['Width'].max()-df['Width'].min())"
   ]
  },
  {
   "cell_type": "code",
   "execution_count": null,
   "id": "2313b93d",
   "metadata": {},
   "outputs": [],
   "source": [
    "set(list(df['NormalWidth'] > 1)) # shows there is no value that is more than 1"
   ]
  },
  {
   "cell_type": "code",
   "execution_count": null,
   "id": "89e80b9e",
   "metadata": {},
   "outputs": [],
   "source": [
    "df['NormalWidth'][df['NormalWidth'] < 0][df['NormalWidth'] > 1].sum() # how many values are either less than 0 or more than 1"
   ]
  },
  {
   "cell_type": "markdown",
   "id": "8b3a86e3",
   "metadata": {},
   "source": [
    "### Binning\n",
    "It is the process of grouping continuous numerical values into discrete categories or 'bins'. It's also called discretization and is useful in visualizations, analyzing patterns or trends, or creating models that require categorical input variables. Pandas' `.cut()` method can be used to accomplish this."
   ]
  },
  {
   "cell_type": "code",
   "execution_count": null,
   "id": "15220621",
   "metadata": {},
   "outputs": [],
   "source": [
    "df.head()"
   ]
  },
  {
   "cell_type": "markdown",
   "id": "7a86d656",
   "metadata": {},
   "source": [
    "In the `astype()` method, the `copy` parameter specifies whether to return a new copy of the data (when copy=True) or modify the existing data in place (when copy=False, which is the default behavior). This ensures that the original data in df is not modified. If copy=False (or no option) is used instead, the original data in df would be modified directly."
   ]
  },
  {
   "cell_type": "code",
   "execution_count": null,
   "id": "8722a85a",
   "metadata": {},
   "outputs": [],
   "source": [
    "df['Horsepower'] = df['Horsepower'].astype(int, copy = True)"
   ]
  },
  {
   "cell_type": "code",
   "execution_count": null,
   "id": "a842fd38",
   "metadata": {},
   "outputs": [],
   "source": [
    "df.head()"
   ]
  },
  {
   "cell_type": "code",
   "execution_count": null,
   "id": "6b86f9d9",
   "metadata": {},
   "outputs": [],
   "source": [
    "sns.histplot(data = df['Horsepower'], \n",
    "             bins = 3,\n",
    "             kde = False,\n",
    "             color = \"red\",\n",
    "             fill = \"blue\",\n",
    "            ) \n",
    "plt.show()"
   ]
  },
  {
   "cell_type": "code",
   "execution_count": null,
   "id": "5d22506c",
   "metadata": {},
   "outputs": [],
   "source": [
    "bins = np.linspace(min(df[\"Horsepower\"]), max(df[\"Horsepower\"]), 4) # divide range of Horsepower into 3 bins using 4 numbers\n",
    "hpGroups = 'Low Medium High'.split() # define groups to put numbers in\n",
    "print(bins, hpGroups)"
   ]
  },
  {
   "cell_type": "code",
   "execution_count": null,
   "id": "9cbf2bd2",
   "metadata": {},
   "outputs": [],
   "source": [
    "df['HorsepowerBinned'] = pd.cut(df['Horsepower'], \n",
    "                                bins = bins, \n",
    "                                right = False, # whether the interval should be closed on the right\n",
    "                                include_lowest = True, # whether the lowest edge of the leftmost bin should be included.\n",
    "                                labels = hpGroups)\n",
    "df[['Horsepower', 'HorsepowerBinned']].head(20)"
   ]
  },
  {
   "cell_type": "code",
   "execution_count": null,
   "id": "62a44630",
   "metadata": {},
   "outputs": [],
   "source": [
    "df['HorsepowerBinned'].value_counts().plot.bar()"
   ]
  },
  {
   "cell_type": "code",
   "execution_count": null,
   "id": "df0b5e3b",
   "metadata": {},
   "outputs": [],
   "source": [
    "df.tail()"
   ]
  },
  {
   "cell_type": "markdown",
   "id": "f11eddc3",
   "metadata": {},
   "source": [
    "### One Hot Encoding\n",
    "A technique that is used to transform categorical variables into a format that can be used for machine learning algorithms. When we have a categorical/factor variable with two or more levels (unique values) we can use Pandas' `get_dummies()` function to create dummy variables out of them. Dummy or indicator variables or binary variables are 0 and 1 variables to label categories. They indicate the presence or absence of some categorical effect, e.g. female and male for gender. \n",
    "- the `dummy_na = True` option for this function create an additional column with 1 for missing values and 0 otherwise"
   ]
  },
  {
   "cell_type": "code",
   "execution_count": null,
   "id": "70d3db64",
   "metadata": {},
   "outputs": [],
   "source": [
    "Dummy1 = pd.get_dummies(df['Fuel'])\n",
    "Dummy1.head()"
   ]
  },
  {
   "cell_type": "code",
   "execution_count": null,
   "id": "b88311ac",
   "metadata": {},
   "outputs": [],
   "source": [
    "df = pd.concat([df, Dummy1], axis=1)"
   ]
  },
  {
   "cell_type": "markdown",
   "id": "c281a737",
   "metadata": {},
   "source": [
    "Let's see what other variables we have in the dataframe with more than two unique values and do the one hot encoding on it."
   ]
  },
  {
   "cell_type": "code",
   "execution_count": null,
   "id": "2cdb9ef6",
   "metadata": {},
   "outputs": [],
   "source": [
    "for i in df.columns:\n",
    "    print(\"Unique values in \", i, \" = \", df[i].unique())"
   ]
  },
  {
   "cell_type": "code",
   "execution_count": null,
   "id": "47f7231a",
   "metadata": {},
   "outputs": [],
   "source": [
    "pd.get_dummies(df['Body']) # let's run it on 'Body' which has 5 levels"
   ]
  },
  {
   "cell_type": "code",
   "execution_count": null,
   "id": "9acdec16",
   "metadata": {},
   "outputs": [],
   "source": [
    "df2 = pd.concat([df, pd.get_dummies(df['Body'])], axis = 1)"
   ]
  },
  {
   "cell_type": "markdown",
   "id": "7aae9fa4",
   "metadata": {},
   "source": [
    "### Quick plots\n",
    "By default `df.plot()` creates a line plot of all numerical columns in the DataFrame.\n",
    "Using the `kind` argument we can choose from the available options: **line, bar, barh, hist, box, kde, density, area, pie, scatter, and hexbin**. \n",
    "\n",
    "Also, the followin options also exist to customize the plot: **title, xlabel, ylabel, legend, grid, xlim, ylim, xticks, yticks etc**. \n",
    "\n",
    "We can also use **plt.xlabel(), plt.ylabel(), plt.title() etc.** after the plot to customize it."
   ]
  },
  {
   "cell_type": "code",
   "execution_count": null,
   "id": "090f8167",
   "metadata": {},
   "outputs": [],
   "source": [
    "df['Fuel'].value_counts().plot(kind = 'bar', \n",
    "                               title = \"Frequencies of each Fuel Type\")\n",
    "plt.xlabel(\"Fuel Type\")"
   ]
  }
 ],
 "metadata": {
  "kernelspec": {
   "display_name": "Python 3 (ipykernel)",
   "language": "python",
   "name": "python3"
  },
  "language_info": {
   "codemirror_mode": {
    "name": "ipython",
    "version": 3
   },
   "file_extension": ".py",
   "mimetype": "text/x-python",
   "name": "python",
   "nbconvert_exporter": "python",
   "pygments_lexer": "ipython3",
   "version": "3.11.1"
  }
 },
 "nbformat": 4,
 "nbformat_minor": 5
}
